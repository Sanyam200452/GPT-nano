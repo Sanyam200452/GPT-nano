{
  "cells": [
    {
      "cell_type": "code",
      "execution_count": 1,
      "metadata": {
        "id": "gLbfof3p28Fg"
      },
      "outputs": [],
      "source": [
        "import torch\n",
        "import torch.nn as nn\n",
        "import torch.nn.functional as F"
      ]
    },
    {
      "cell_type": "markdown",
      "metadata": {
        "id": "-9K8-wzq3hIh"
      },
      "source": [
        "# Import the datasets"
      ]
    },
    {
      "cell_type": "code",
      "execution_count": 2,
      "metadata": {
        "colab": {
          "base_uri": "https://localhost:8080/"
        },
        "id": "65ulTf0h3M59",
        "outputId": "6199cba5-7b7a-4d7a-bc83-e13fab50e074"
      },
      "outputs": [
        {
          "output_type": "stream",
          "name": "stdout",
          "text": [
            "--2024-08-04 07:37:16--  https://raw.githubusercontent.com/karpathy/char-rnn/master/data/tinyshakespeare/input.txt\n",
            "Resolving raw.githubusercontent.com (raw.githubusercontent.com)... 185.199.108.133, 185.199.109.133, 185.199.110.133, ...\n",
            "Connecting to raw.githubusercontent.com (raw.githubusercontent.com)|185.199.108.133|:443... connected.\n",
            "HTTP request sent, awaiting response... 200 OK\n",
            "Length: 1115394 (1.1M) [text/plain]\n",
            "Saving to: ‘input.txt’\n",
            "\n",
            "\rinput.txt             0%[                    ]       0  --.-KB/s               \rinput.txt           100%[===================>]   1.06M  --.-KB/s    in 0.04s   \n",
            "\n",
            "2024-08-04 07:37:17 (28.3 MB/s) - ‘input.txt’ saved [1115394/1115394]\n",
            "\n",
            "First Citizen:\n",
            "Before we proceed any further, hear me speak.\n",
            "\n",
            "All:\n",
            "Speak, speak.\n",
            "\n",
            "First Citizen:\n",
            "You\n"
          ]
        }
      ],
      "source": [
        "!wget https://raw.githubusercontent.com/karpathy/char-rnn/master/data/tinyshakespeare/input.txt\n",
        "with open('./input.txt', 'r', encoding='utf-8') as f:\n",
        "    text = f.read()\n",
        "\n",
        "print(text[:100])"
      ]
    },
    {
      "cell_type": "code",
      "execution_count": 3,
      "metadata": {
        "colab": {
          "base_uri": "https://localhost:8080/"
        },
        "id": "BWjX9eBU3TLg",
        "outputId": "7e45d308-b263-4eaa-e068-1b1d83fc776e"
      },
      "outputs": [
        {
          "output_type": "stream",
          "name": "stdout",
          "text": [
            "Total unique characters: 65\n",
            "\n",
            "['\\n', ' ', '!', '$', '&', \"'\", ',', '-', '.', '3', ':', ';', '?', 'A', 'B', 'C', 'D', 'E', 'F', 'G', 'H', 'I', 'J', 'K', 'L', 'M', 'N', 'O', 'P', 'Q', 'R', 'S', 'T', 'U', 'V', 'W', 'X', 'Y', 'Z', 'a', 'b', 'c', 'd', 'e', 'f', 'g', 'h', 'i', 'j', 'k', 'l', 'm', 'n', 'o', 'p', 'q', 'r', 's', 't', 'u', 'v', 'w', 'x', 'y', 'z']\n",
            "\n",
            " !$&',-.3:;?ABCDEFGHIJKLMNOPQRSTUVWXYZabcdefghijklmnopqrstuvwxyz\n"
          ]
        }
      ],
      "source": [
        "chars = sorted(list(set(text)))\n",
        "vocab_size = len(chars)\n",
        "print(\"Total unique characters:\", vocab_size, end=\"\\n\\n\")\n",
        "print(chars)\n",
        "print(''.join(chars))"
      ]
    },
    {
      "cell_type": "markdown",
      "metadata": {
        "id": "zcYOTvnL3WoM"
      },
      "source": [
        "# encoder and decoder"
      ]
    },
    {
      "cell_type": "code",
      "execution_count": 4,
      "metadata": {
        "id": "edix53tF3miT"
      },
      "outputs": [],
      "source": [
        "char_to_number = {ch:i for i,ch in enumerate(chars)}\n",
        "number_to_char = {i:ch for i,ch in enumerate(chars)}\n",
        "\n",
        "# encoder: take a string, output a list of integers\n",
        "encode = lambda s: [char_to_number[c] for c in s]\n",
        "\n",
        "# decoder: take a list of integers, output a string\n",
        "decode = lambda l: ''.join([number_to_char[i] for i in l])\n"
      ]
    },
    {
      "cell_type": "markdown",
      "metadata": {
        "id": "Lj37krm33xGl"
      },
      "source": [
        "# Train Val split"
      ]
    },
    {
      "cell_type": "code",
      "execution_count": 5,
      "metadata": {
        "id": "RcR6juVU335v"
      },
      "outputs": [],
      "source": [
        "data = torch.tensor(encode(text), dtype=torch.long)\n",
        "n = int(0.9 * len(data))\n",
        "train_data = data[:n]\n",
        "val_data = data[n:]"
      ]
    },
    {
      "cell_type": "markdown",
      "metadata": {
        "id": "4MUSDS7L36k0"
      },
      "source": [
        "# Classes"
      ]
    },
    {
      "cell_type": "code",
      "execution_count": 6,
      "metadata": {
        "id": "wzyB9Yps4bjo"
      },
      "outputs": [],
      "source": [
        "class BigramLM(nn.Module):\n",
        "\n",
        "  def __init__(self):\n",
        "    super().__init__()\n",
        "    self.embedding_table = nn.Embedding(vocab_size, n_embd)\n",
        "    ## add position embeddings\n",
        "    self.position_embeddings = nn.Embedding(block_size, n_embd)\n",
        "    #self attention_head\n",
        "                      # self.sa_heads = MultiHeadAttention(4, n_embd//4) # to make shape workout with the next layer...\n",
        "                      # self.add_norm_1 = nn.LayerNorm(n_embd)\n",
        "                      # self.ffwd = FeedForward(n_embd)\n",
        "                      # self.add_norm_2 = nn.LayerNorm(n_embd)\n",
        "    self.blocks = nn.Sequential(\n",
        "        Block(n_embd,n_head = 4),\n",
        "        Block(n_embd,n_head = 4),\n",
        "        Block(n_embd,n_head = 4),\n",
        "        nn.LayerNorm(n_embd)\n",
        "    )\n",
        "    self.lm_head = nn.Linear(n_embd, vocab_size)  # added a layer\n",
        "\n",
        "  def forward(self, idx, targets=None):\n",
        "    B,T = idx.shape\n",
        "\n",
        "    tok_emb = self.embedding_table(idx) # B, T, n_emb\n",
        "    pos_emb = self.position_embeddings(torch.arange(T, device = device))\n",
        "    x = tok_emb + pos_emb\n",
        "          #residual connections and add_norm\n",
        "          # x = x +  self.add_norm_1(self.sa_heads(x))\n",
        "          # x = x + self.add_norm_2(self.ffwd(x))\n",
        "    x = self.blocks(x)\n",
        "    logits = self.lm_head(x) # B, T, vocab_size\n",
        "\n",
        "    if targets is None:\n",
        "        loss=None\n",
        "    else:\n",
        "        B, T, C = logits.shape\n",
        "        logits = logits.view(B*T, C)\n",
        "        targets = targets.view(B*T)\n",
        "        loss = F.cross_entropy(logits, targets)\n",
        "\n",
        "    return logits, loss\n",
        "\n",
        "\n",
        "  def generate(self, idx, max_new_tokens):\n",
        "\n",
        "\n",
        "\n",
        "    for _ in range(max_new_tokens):\n",
        "      idx_cond = idx[:, -block_size:] # make sure we only have size of `T`\n",
        "      logits, loss = self(idx_cond)\n",
        "      logits = logits[:, -1, :]\n",
        "\n",
        "      probs = F.softmax(logits, dim=-1) ## dim=-1: along the last dimension ~ here `1`\n",
        "\n",
        "      next_idx = torch.multinomial(probs, num_samples=1)\n",
        "\n",
        "      idx = torch.cat((idx, next_idx), dim=1)\n",
        "\n",
        "    return idx"
      ]
    },
    {
      "cell_type": "code",
      "execution_count": 7,
      "metadata": {
        "id": "UTkQfKB44ib9"
      },
      "outputs": [],
      "source": [
        "class Block(nn.Module):\n",
        "  def __init__(self, n_embd, n_head):\n",
        "    super().__init__()\n",
        "    head_size = n_embd//n_head\n",
        "    self.sa_heads = MultiHeadAttention(n_head, head_size) # to make shape workout with the next layer...\n",
        "    self.add_norm_1 = nn.LayerNorm(n_embd)\n",
        "    self.ffwd = FeedForward(n_embd)\n",
        "    self.add_norm_2 = nn.LayerNorm(n_embd)\n",
        "\n",
        "\n",
        "  def forward(self, x):\n",
        "\n",
        "    x = x + self.add_norm_1(self.sa_heads(x))\n",
        "    x = x + self.add_norm_2(self.ffwd(x))\n",
        "    return x"
      ]
    },
    {
      "cell_type": "code",
      "execution_count": 8,
      "metadata": {
        "id": "l466wWfg4mBZ"
      },
      "outputs": [],
      "source": [
        "class MultiHeadAttention(nn.Module):\n",
        "  def __init__(self,num_heads, head_size):\n",
        "    super().__init__()\n",
        "    self.heads = nn.ModuleList([Head(head_size) for _ in range(num_heads)])\n",
        "    self.proj = nn.Linear(n_embd, n_embd)#projcection layer\n",
        "    self.dropout = nn.Dropout(dropout)\n",
        "\n",
        "  def forward(self,x):\n",
        "    out =  torch.cat([h(x) for h in self.heads], dim = -1)\n",
        "    out = self.dropout(self.proj(out))\n",
        "    return out"
      ]
    },
    {
      "cell_type": "code",
      "execution_count": 9,
      "metadata": {
        "id": "KBCgjmjq4swT"
      },
      "outputs": [],
      "source": [
        "class Head(nn.Module):\n",
        "  # this class will create query, key and column tensors and also a registor buffer to mask the future tokens so they don't interact with the past tokens\n",
        "\n",
        "  def __init__(self, head_size):\n",
        "    super().__init__()\n",
        "    self.query = nn.Linear(n_embd, head_size, bias = False)\n",
        "    self.key = nn.Linear(n_embd, head_size, bias = False)\n",
        "    self.value = nn.Linear(n_embd, head_size, bias = False)\n",
        "\n",
        "    self.register_buffer('tril', torch.tril(torch.ones(block_size,block_size, device = device)))\n",
        "    self.dropout = nn.Dropout(dropout)\n",
        "\n",
        "  def forward(self,x):\n",
        "    # here te x input is the positions\n",
        "    B,T,C = x.shape\n",
        "    q = self.query(x)\n",
        "    k = self.key(x)\n",
        "    v = self.value(x)\n",
        "\n",
        "    wei = q @ k.transpose(-2,-1) * C**-0.05  # the C**-0.5 is used to control the variance\n",
        "    wei = wei.masked_fill(self.tril[:T,:T] == 0, float(\"-inf\"))\n",
        "    wei = F.softmax(wei,dim = -1);\n",
        "    wei = self.dropout(wei)\n",
        "    out = wei@ v;\n",
        "\n",
        "    return out\n",
        "\n"
      ]
    },
    {
      "cell_type": "code",
      "execution_count": 10,
      "metadata": {
        "id": "i5XjFin04zJR"
      },
      "outputs": [],
      "source": [
        "class FeedForward(nn.Module):\n",
        "  def __init__(self, n_embd):\n",
        "    super().__init__()\n",
        "    self.net = nn.Sequential(\n",
        "        nn.Linear(n_embd, 4*n_embd),\n",
        "        nn.ReLU(),\n",
        "        nn.Linear(4*n_embd, n_embd),# projection layer\n",
        "        nn.Dropout(dropout)\n",
        "    )\n",
        "\n",
        "  def forward(self, x):\n",
        "\n",
        "    return self.net(x)\n"
      ]
    },
    {
      "cell_type": "markdown",
      "metadata": {
        "id": "lfEcfE607bmF"
      },
      "source": [
        "## Training functions"
      ]
    },
    {
      "cell_type": "code",
      "execution_count": 11,
      "metadata": {
        "id": "Y-AYD5i17iJz"
      },
      "outputs": [],
      "source": [
        "def get_batch(split):\n",
        "  data = train_data if split == 'train' else val_data\n",
        "  ix = torch.randint(len(data) - block_size, (batch_size,))\n",
        "  x = torch.stack([data[i:i+block_size] for i in ix])\n",
        "  y = torch.stack([data[i+1:i+block_size+1] for i in ix])\n",
        "  x, y = x.to(device), y.to(device)\n",
        "  return x, y"
      ]
    },
    {
      "cell_type": "code",
      "execution_count": 12,
      "metadata": {
        "id": "qJ17GT9c7lLz"
      },
      "outputs": [],
      "source": [
        "@torch.no_grad()\n",
        "def estimate_loss():\n",
        "  '''\n",
        "  This function takes the random samples from the dataset (based on the batch size)\n",
        "  for `eval_iter` times. Records loss and takes the mean loss. And reports back.\n",
        "\n",
        "  Which means, if we have the `eval_iter = 10` and `batch_size=32` then it will take\n",
        "  32 random samples from training data and then validation data for 10 times and takes\n",
        "  the means of these 10 losses.\n",
        "  '''\n",
        "  out = {}\n",
        "\n",
        "  model.eval()\n",
        "\n",
        "  for split in ['train', 'val']:\n",
        "      losses = torch.zeros(eval_iters)\n",
        "      for k in range(eval_iters):\n",
        "          X, Y = get_batch(split)\n",
        "          logits, loss = model(X, Y)\n",
        "          losses[k] = loss.item()\n",
        "      out[split] = losses.mean()\n",
        "\n",
        "\n",
        "  model.train()\n",
        "  return out"
      ]
    },
    {
      "cell_type": "markdown",
      "metadata": {
        "id": "Tl59odH17zq-"
      },
      "source": [
        "#Training"
      ]
    },
    {
      "cell_type": "code",
      "execution_count": 13,
      "metadata": {
        "id": "uEyU4dSd8DxY"
      },
      "outputs": [],
      "source": [
        "batch_size = 64      # samples we will use for the single forward pass\n",
        "block_size = 256     # the context window (significantly bigger than our toy examples)\n",
        "max_iters = 5000     # total forward-backward passes\n",
        "\n",
        "eval_interval = 500  # after how many steps we want to print the loss?\n",
        "learning_rate = 3e-4 # learning rate\n",
        "device = 'cuda' if torch.cuda.is_available() else 'cpu'\n",
        "\n",
        "eval_iters = 200    # when printing the loss, how many samples to consider for validation?\n",
        "n_embd = 384        # embedding size of each token\n",
        "n_head = 8          # `n` multi heads for the self-attention\n",
        "n_layers = 6        # `n` for `Nx` which shows how many blocks to use\n",
        "dropout = 0.2"
      ]
    },
    {
      "cell_type": "code",
      "execution_count": 14,
      "metadata": {
        "id": "kMNcMrcl73_D"
      },
      "outputs": [],
      "source": [
        "model = BigramLM()\n",
        "model = model.to(device)\n",
        "optimizer = torch.optim.AdamW(model.parameters(), lr = learning_rate)"
      ]
    },
    {
      "cell_type": "code",
      "execution_count": 15,
      "metadata": {
        "colab": {
          "base_uri": "https://localhost:8080/"
        },
        "id": "Kv9C_epP8Rii",
        "outputId": "52f18850-d63c-4874-8f6b-3ea3c2c60d87"
      },
      "outputs": [
        {
          "output_type": "execute_result",
          "data": {
            "text/plain": [
              "23107"
            ]
          },
          "metadata": {},
          "execution_count": 15
        }
      ],
      "source": [
        "sum(len(i) for i in model.parameters())"
      ]
    },
    {
      "cell_type": "code",
      "execution_count": 16,
      "metadata": {
        "colab": {
          "base_uri": "https://localhost:8080/"
        },
        "id": "kIxpOTdB8Te8",
        "outputId": "6de531c0-3f19-4a9e-cbdc-aaa6a2d9abf1"
      },
      "outputs": [
        {
          "output_type": "stream",
          "name": "stdout",
          "text": [
            "BigramLM(\n",
            "  (embedding_table): Embedding(65, 384)\n",
            "  (position_embeddings): Embedding(256, 384)\n",
            "  (blocks): Sequential(\n",
            "    (0): Block(\n",
            "      (sa_heads): MultiHeadAttention(\n",
            "        (heads): ModuleList(\n",
            "          (0-3): 4 x Head(\n",
            "            (query): Linear(in_features=384, out_features=96, bias=False)\n",
            "            (key): Linear(in_features=384, out_features=96, bias=False)\n",
            "            (value): Linear(in_features=384, out_features=96, bias=False)\n",
            "            (dropout): Dropout(p=0.2, inplace=False)\n",
            "          )\n",
            "        )\n",
            "        (proj): Linear(in_features=384, out_features=384, bias=True)\n",
            "        (dropout): Dropout(p=0.2, inplace=False)\n",
            "      )\n",
            "      (add_norm_1): LayerNorm((384,), eps=1e-05, elementwise_affine=True)\n",
            "      (ffwd): FeedForward(\n",
            "        (net): Sequential(\n",
            "          (0): Linear(in_features=384, out_features=1536, bias=True)\n",
            "          (1): ReLU()\n",
            "          (2): Linear(in_features=1536, out_features=384, bias=True)\n",
            "          (3): Dropout(p=0.2, inplace=False)\n",
            "        )\n",
            "      )\n",
            "      (add_norm_2): LayerNorm((384,), eps=1e-05, elementwise_affine=True)\n",
            "    )\n",
            "    (1): Block(\n",
            "      (sa_heads): MultiHeadAttention(\n",
            "        (heads): ModuleList(\n",
            "          (0-3): 4 x Head(\n",
            "            (query): Linear(in_features=384, out_features=96, bias=False)\n",
            "            (key): Linear(in_features=384, out_features=96, bias=False)\n",
            "            (value): Linear(in_features=384, out_features=96, bias=False)\n",
            "            (dropout): Dropout(p=0.2, inplace=False)\n",
            "          )\n",
            "        )\n",
            "        (proj): Linear(in_features=384, out_features=384, bias=True)\n",
            "        (dropout): Dropout(p=0.2, inplace=False)\n",
            "      )\n",
            "      (add_norm_1): LayerNorm((384,), eps=1e-05, elementwise_affine=True)\n",
            "      (ffwd): FeedForward(\n",
            "        (net): Sequential(\n",
            "          (0): Linear(in_features=384, out_features=1536, bias=True)\n",
            "          (1): ReLU()\n",
            "          (2): Linear(in_features=1536, out_features=384, bias=True)\n",
            "          (3): Dropout(p=0.2, inplace=False)\n",
            "        )\n",
            "      )\n",
            "      (add_norm_2): LayerNorm((384,), eps=1e-05, elementwise_affine=True)\n",
            "    )\n",
            "    (2): Block(\n",
            "      (sa_heads): MultiHeadAttention(\n",
            "        (heads): ModuleList(\n",
            "          (0-3): 4 x Head(\n",
            "            (query): Linear(in_features=384, out_features=96, bias=False)\n",
            "            (key): Linear(in_features=384, out_features=96, bias=False)\n",
            "            (value): Linear(in_features=384, out_features=96, bias=False)\n",
            "            (dropout): Dropout(p=0.2, inplace=False)\n",
            "          )\n",
            "        )\n",
            "        (proj): Linear(in_features=384, out_features=384, bias=True)\n",
            "        (dropout): Dropout(p=0.2, inplace=False)\n",
            "      )\n",
            "      (add_norm_1): LayerNorm((384,), eps=1e-05, elementwise_affine=True)\n",
            "      (ffwd): FeedForward(\n",
            "        (net): Sequential(\n",
            "          (0): Linear(in_features=384, out_features=1536, bias=True)\n",
            "          (1): ReLU()\n",
            "          (2): Linear(in_features=1536, out_features=384, bias=True)\n",
            "          (3): Dropout(p=0.2, inplace=False)\n",
            "        )\n",
            "      )\n",
            "      (add_norm_2): LayerNorm((384,), eps=1e-05, elementwise_affine=True)\n",
            "    )\n",
            "    (3): LayerNorm((384,), eps=1e-05, elementwise_affine=True)\n",
            "  )\n",
            "  (lm_head): Linear(in_features=384, out_features=65, bias=True)\n",
            ")\n"
          ]
        }
      ],
      "source": [
        "print(model)"
      ]
    },
    {
      "cell_type": "code",
      "execution_count": 19,
      "metadata": {
        "colab": {
          "base_uri": "https://localhost:8080/"
        },
        "id": "dDXjF2ay8Yck",
        "outputId": "8d723d71-98fa-42a7-896c-350d0f97e5d0"
      },
      "outputs": [
        {
          "output_type": "stream",
          "name": "stdout",
          "text": [
            "[Step 0]: Train Loss~2.0133, Val Loss~2.1434\n",
            "[Step 500]: Train Loss~1.9977, Val Loss~2.1301\n",
            "[Step 1000]: Train Loss~1.9573, Val Loss~2.0967\n",
            "[Step 1500]: Train Loss~1.8014, Val Loss~1.9597\n",
            "[Step 2000]: Train Loss~1.6768, Val Loss~1.8463\n",
            "[Step 2500]: Train Loss~1.6123, Val Loss~1.7983\n",
            "[Step 3000]: Train Loss~1.5799, Val Loss~1.7669\n",
            "[Step 3500]: Train Loss~1.5513, Val Loss~1.7535\n",
            "[Step 4000]: Train Loss~1.5309, Val Loss~1.7269\n",
            "[Step 4500]: Train Loss~1.5143, Val Loss~1.7200\n"
          ]
        }
      ],
      "source": [
        "for step in range(max_iters):\n",
        "\n",
        "  if step % eval_interval == 0:\n",
        "    losses = estimate_loss()\n",
        "    print(f\"[Step {step}]: Train Loss~{losses['train']:.4f}, Val Loss~{losses['val']:.4f}\")\n",
        "\n",
        "  # sample a batch of data\n",
        "  xb, yb = get_batch('train')\n",
        "\n",
        "  # evaluate the loss\n",
        "  logits, loss = model(xb, yb)\n",
        "  optimizer.zero_grad(set_to_none=True)\n",
        "  loss.backward()\n",
        "  optimizer.step()"
      ]
    },
    {
      "cell_type": "code",
      "execution_count": 20,
      "metadata": {
        "id": "JF-_CpXo9H7X",
        "colab": {
          "base_uri": "https://localhost:8080/"
        },
        "outputId": "c685ff8c-6b99-4a57-b759-6c3d2944ebc6"
      },
      "outputs": [
        {
          "output_type": "stream",
          "name": "stdout",
          "text": [
            "\n",
            "\n",
            "PARIS:\n",
            "Take her, tongue; only; sconce, some at that but\n",
            "Like it is the his on you deachonters, s; the nalidenanst to see grall afty han sold first\n",
            "Here say solding that I will him!\n",
            "\n",
            "GLOUCIO:\n",
            "Sinatize arenceiend.\n",
            "\n",
            "Lord.\n",
            "\n",
            "I graciore an hidwine their c.\n",
            "And fot of islewise\n",
            "much ther? I for that it as the s,\n",
            "all I land that d incal not your cour k t spile the to this may isu?\n",
            "'\n",
            "That's shepherer:\n",
            "I am his for from and ravarl of am, is is blore,\n",
            "And, onld nig to mads whethise\n",
            "And at it to-merchat to \n"
          ]
        }
      ],
      "source": [
        "output = decode(\n",
        "    model.generate(\n",
        "        idx = torch.zeros((1, 1),\n",
        "                          dtype=torch.long,\n",
        "                          device=device),  ### 🗽 Transfer to device 🗽 ###\n",
        "        max_new_tokens=500)[0].tolist()\n",
        ")\n",
        "print(output)"
      ]
    },
    {
      "cell_type": "code",
      "source": [
        "torch.save(model.state_dict(), 'Final_GPT.pth')\n",
        "\n",
        "# Loading the state dictionary\n",
        "model = BigramLM()  # Initialize the model\n",
        "model.load_state_dict(torch.load('Final_GPT.pth'))\n",
        "model = model.to(device)\n",
        "model.eval()"
      ],
      "metadata": {
        "colab": {
          "base_uri": "https://localhost:8080/"
        },
        "id": "Ar5axRbSbCnf",
        "outputId": "503e98c4-ab0e-45bd-c3da-791d9ceb191f"
      },
      "execution_count": 21,
      "outputs": [
        {
          "output_type": "execute_result",
          "data": {
            "text/plain": [
              "BigramLM(\n",
              "  (embedding_table): Embedding(65, 384)\n",
              "  (position_embeddings): Embedding(256, 384)\n",
              "  (blocks): Sequential(\n",
              "    (0): Block(\n",
              "      (sa_heads): MultiHeadAttention(\n",
              "        (heads): ModuleList(\n",
              "          (0-3): 4 x Head(\n",
              "            (query): Linear(in_features=384, out_features=96, bias=False)\n",
              "            (key): Linear(in_features=384, out_features=96, bias=False)\n",
              "            (value): Linear(in_features=384, out_features=96, bias=False)\n",
              "            (dropout): Dropout(p=0.2, inplace=False)\n",
              "          )\n",
              "        )\n",
              "        (proj): Linear(in_features=384, out_features=384, bias=True)\n",
              "        (dropout): Dropout(p=0.2, inplace=False)\n",
              "      )\n",
              "      (add_norm_1): LayerNorm((384,), eps=1e-05, elementwise_affine=True)\n",
              "      (ffwd): FeedForward(\n",
              "        (net): Sequential(\n",
              "          (0): Linear(in_features=384, out_features=1536, bias=True)\n",
              "          (1): ReLU()\n",
              "          (2): Linear(in_features=1536, out_features=384, bias=True)\n",
              "          (3): Dropout(p=0.2, inplace=False)\n",
              "        )\n",
              "      )\n",
              "      (add_norm_2): LayerNorm((384,), eps=1e-05, elementwise_affine=True)\n",
              "    )\n",
              "    (1): Block(\n",
              "      (sa_heads): MultiHeadAttention(\n",
              "        (heads): ModuleList(\n",
              "          (0-3): 4 x Head(\n",
              "            (query): Linear(in_features=384, out_features=96, bias=False)\n",
              "            (key): Linear(in_features=384, out_features=96, bias=False)\n",
              "            (value): Linear(in_features=384, out_features=96, bias=False)\n",
              "            (dropout): Dropout(p=0.2, inplace=False)\n",
              "          )\n",
              "        )\n",
              "        (proj): Linear(in_features=384, out_features=384, bias=True)\n",
              "        (dropout): Dropout(p=0.2, inplace=False)\n",
              "      )\n",
              "      (add_norm_1): LayerNorm((384,), eps=1e-05, elementwise_affine=True)\n",
              "      (ffwd): FeedForward(\n",
              "        (net): Sequential(\n",
              "          (0): Linear(in_features=384, out_features=1536, bias=True)\n",
              "          (1): ReLU()\n",
              "          (2): Linear(in_features=1536, out_features=384, bias=True)\n",
              "          (3): Dropout(p=0.2, inplace=False)\n",
              "        )\n",
              "      )\n",
              "      (add_norm_2): LayerNorm((384,), eps=1e-05, elementwise_affine=True)\n",
              "    )\n",
              "    (2): Block(\n",
              "      (sa_heads): MultiHeadAttention(\n",
              "        (heads): ModuleList(\n",
              "          (0-3): 4 x Head(\n",
              "            (query): Linear(in_features=384, out_features=96, bias=False)\n",
              "            (key): Linear(in_features=384, out_features=96, bias=False)\n",
              "            (value): Linear(in_features=384, out_features=96, bias=False)\n",
              "            (dropout): Dropout(p=0.2, inplace=False)\n",
              "          )\n",
              "        )\n",
              "        (proj): Linear(in_features=384, out_features=384, bias=True)\n",
              "        (dropout): Dropout(p=0.2, inplace=False)\n",
              "      )\n",
              "      (add_norm_1): LayerNorm((384,), eps=1e-05, elementwise_affine=True)\n",
              "      (ffwd): FeedForward(\n",
              "        (net): Sequential(\n",
              "          (0): Linear(in_features=384, out_features=1536, bias=True)\n",
              "          (1): ReLU()\n",
              "          (2): Linear(in_features=1536, out_features=384, bias=True)\n",
              "          (3): Dropout(p=0.2, inplace=False)\n",
              "        )\n",
              "      )\n",
              "      (add_norm_2): LayerNorm((384,), eps=1e-05, elementwise_affine=True)\n",
              "    )\n",
              "    (3): LayerNorm((384,), eps=1e-05, elementwise_affine=True)\n",
              "  )\n",
              "  (lm_head): Linear(in_features=384, out_features=65, bias=True)\n",
              ")"
            ]
          },
          "metadata": {},
          "execution_count": 21
        }
      ]
    },
    {
      "cell_type": "code",
      "source": [
        "torch.tensor(encode(\"Thou art so\"))"
      ],
      "metadata": {
        "colab": {
          "base_uri": "https://localhost:8080/"
        },
        "id": "I6FwVHEBcOQx",
        "outputId": "0ab005b5-417f-4b46-de11-da86fed0a490"
      },
      "execution_count": 24,
      "outputs": [
        {
          "output_type": "execute_result",
          "data": {
            "text/plain": [
              "tensor([32, 46, 53, 59,  1, 39, 56, 58,  1, 57, 53])"
            ]
          },
          "metadata": {},
          "execution_count": 24
        }
      ]
    },
    {
      "cell_type": "code",
      "source": [
        "output = decode(\n",
        "    model.generate(\n",
        "        idx = torch.tensor(encode(\"Thou art so beau\"), dtype=torch.long, device = device).unsqueeze(0),  ### 🗽 Transfer to device 🗽 ###\n",
        "        max_new_tokens=10)[0].tolist()\n",
        ")\n",
        "print(output)"
      ],
      "metadata": {
        "colab": {
          "base_uri": "https://localhost:8080/"
        },
        "id": "7Zge1Dcuhfur",
        "outputId": "f0d8c5c8-f0cc-4682-c893-ef270d573221"
      },
      "execution_count": 29,
      "outputs": [
        {
          "output_type": "stream",
          "name": "stdout",
          "text": [
            "Thou art so beauty thy be\n",
            "\n"
          ]
        }
      ]
    },
    {
      "cell_type": "markdown",
      "source": [
        "Well, i wanted it to say beautiful, this is also okay 😀"
      ],
      "metadata": {
        "id": "yUp__rRGgN0A"
      }
    },
    {
      "cell_type": "code",
      "source": [
        "output = decode(\n",
        "    model.generate(\n",
        "        idx = torch.tensor(encode(\"To be or not to\"), dtype=torch.long, device = device).unsqueeze(0),  ### 🗽 Transfer to device 🗽 ###\n",
        "        max_new_tokens=3)[0].tolist()\n",
        ")\n",
        "print(output)"
      ],
      "metadata": {
        "colab": {
          "base_uri": "https://localhost:8080/"
        },
        "id": "8LeSk7lDh0iS",
        "outputId": "f00843f0-7ab5-4516-9c46-38b1a7ff6933"
      },
      "execution_count": 34,
      "outputs": [
        {
          "output_type": "stream",
          "name": "stdout",
          "text": [
            "To be or not to be\n"
          ]
        }
      ]
    },
    {
      "cell_type": "markdown",
      "source": [
        "##this is nice"
      ],
      "metadata": {
        "id": "jQYTaE6-h5C3"
      }
    }
  ],
  "metadata": {
    "accelerator": "GPU",
    "colab": {
      "gpuType": "T4",
      "provenance": []
    },
    "kernelspec": {
      "display_name": "Python 3",
      "name": "python3"
    },
    "language_info": {
      "name": "python"
    }
  },
  "nbformat": 4,
  "nbformat_minor": 0
}
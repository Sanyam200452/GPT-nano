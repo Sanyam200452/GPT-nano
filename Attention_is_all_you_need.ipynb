{
  "cells": [
    {
      "cell_type": "markdown",
      "source": [
        "# Building a nanoGPT: From Bigram Language Model to Transformer Decoder\n",
        "\n",
        "In this notebook, I created a GPT-like model, starting from a basic bigram language model and progressively incorporating advanced attention techniques.\n",
        "\n",
        "Throughout this notebook, I will:\n",
        "1. Implement a simple bigram language model to establish a baseline.\n",
        "2. Gradually integrate more sophisticated attention techniques, including multi-head attention and positional encoding.\n",
        "3. Compare the performance of our models at each stage to highlight the impact of these enhancements.\n",
        "\n"
      ],
      "metadata": {
        "id": "-oR9zcq2PSe4"
      }
    },
    {
      "cell_type": "code",
      "execution_count": 1,
      "metadata": {
        "id": "kythzN7xWcJZ"
      },
      "outputs": [],
      "source": [
        "import torch\n",
        "import torch.nn as nn\n",
        "import torch.nn.functional as F"
      ]
    },
    {
      "cell_type": "code",
      "execution_count": 2,
      "metadata": {
        "id": "gssaqCgNWmdS"
      },
      "outputs": [],
      "source": [
        "with open('./input.txt', 'r', encoding='utf-8') as f:\n",
        "    text = f.read()"
      ]
    },
    {
      "cell_type": "code",
      "source": [
        "print(text[:100])"
      ],
      "metadata": {
        "colab": {
          "base_uri": "https://localhost:8080/"
        },
        "id": "y7x-ZdeXtAdx",
        "outputId": "6446f035-164e-4f18-df51-ee586032a52f"
      },
      "execution_count": 3,
      "outputs": [
        {
          "output_type": "stream",
          "name": "stdout",
          "text": [
            "First Citizen:\n",
            "Before we proceed any further, hear me speak.\n",
            "\n",
            "All:\n",
            "Speak, speak.\n",
            "\n",
            "First Citizen:\n",
            "You\n"
          ]
        }
      ]
    },
    {
      "cell_type": "code",
      "execution_count": null,
      "metadata": {
        "id": "YX9EAvQ6Wvoj",
        "outputId": "fe392b7d-1e39-4d27-b656-3e71f13572e5",
        "colab": {
          "base_uri": "https://localhost:8080/"
        }
      },
      "outputs": [
        {
          "output_type": "stream",
          "name": "stdout",
          "text": [
            "Total unique characters: 65\n",
            "\n",
            "['\\n', ' ', '!', '$', '&', \"'\", ',', '-', '.', '3', ':', ';', '?', 'A', 'B', 'C', 'D', 'E', 'F', 'G', 'H', 'I', 'J', 'K', 'L', 'M', 'N', 'O', 'P', 'Q', 'R', 'S', 'T', 'U', 'V', 'W', 'X', 'Y', 'Z', 'a', 'b', 'c', 'd', 'e', 'f', 'g', 'h', 'i', 'j', 'k', 'l', 'm', 'n', 'o', 'p', 'q', 'r', 's', 't', 'u', 'v', 'w', 'x', 'y', 'z']\n",
            "\n",
            " !$&',-.3:;?ABCDEFGHIJKLMNOPQRSTUVWXYZabcdefghijklmnopqrstuvwxyz\n"
          ]
        }
      ],
      "source": [
        "chars = sorted(list(set(text)))\n",
        "vocab_size = len(chars)\n",
        "print(\"Total unique characters:\", vocab_size, end=\"\\n\\n\")\n",
        "print(chars)\n",
        "print(''.join(chars))"
      ]
    },
    {
      "cell_type": "code",
      "execution_count": null,
      "metadata": {
        "id": "oQW10N7tWx9i",
        "outputId": "bae90446-4f47-4d6e-eb43-5d3b1b15499c",
        "colab": {
          "base_uri": "https://localhost:8080/"
        }
      },
      "outputs": [
        {
          "output_type": "stream",
          "name": "stdout",
          "text": [
            "[51, 39, 49, 43, 1, 39, 1, 58, 56, 39, 52, 57, 44, 53, 56, 51, 43, 56, 6, 1, 53, 52, 50, 63, 1, 58, 46, 43, 1, 42, 43, 41, 53, 42, 43, 56]\n",
            "make a transformer, only the decoder\n"
          ]
        }
      ],
      "source": [
        "char_to_number = {ch:i for i,ch in enumerate(chars)}\n",
        "number_to_char = {i:ch for i,ch in enumerate(chars)}\n",
        "\n",
        "# encoder: take a string, output a list of integers\n",
        "encode = lambda s: [char_to_number[c] for c in s]\n",
        "\n",
        "# decoder: take a list of integers, output a string\n",
        "decode = lambda l: ''.join([number_to_char[i] for i in l])\n",
        "\n",
        "encoded_tokens = encode(\"make a transformer, only the decoder\")\n",
        "print(encoded_tokens)\n",
        "\n",
        "decoded_tokens = decode(encoded_tokens)\n",
        "print(decoded_tokens)"
      ]
    },
    {
      "cell_type": "markdown",
      "metadata": {
        "id": "t53jo4CpXXdi"
      },
      "source": [
        "##Making the data"
      ]
    },
    {
      "cell_type": "code",
      "execution_count": null,
      "metadata": {
        "id": "t9PaHjVcW2-k",
        "outputId": "9e751ce6-af5b-4583-b909-bf7449658257",
        "colab": {
          "base_uri": "https://localhost:8080/"
        }
      },
      "outputs": [
        {
          "output_type": "stream",
          "name": "stdout",
          "text": [
            "torch.Size([1115394]) torch.int64\n",
            "tensor([18, 47, 56, 57, 58,  1, 15, 47, 58, 47, 64, 43, 52, 10,  0, 14, 43, 44,\n",
            "        53, 56, 43,  1, 61, 43,  1, 54, 56, 53, 41, 43, 43, 42,  1, 39, 52, 63,\n",
            "         1, 44, 59, 56, 58, 46, 43, 56,  6,  1, 46, 43, 39, 56,  1, 51, 43,  1,\n",
            "        57, 54, 43, 39, 49,  8,  0,  0, 13, 50, 50, 10,  0, 31, 54, 43, 39, 49,\n",
            "         6,  1, 57, 54, 43, 39, 49,  8,  0,  0, 18, 47, 56, 57, 58,  1, 15, 47,\n",
            "        58, 47, 64, 43, 52, 10,  0, 37, 53, 59])\n"
          ]
        }
      ],
      "source": [
        "data = torch.tensor(encode(text), dtype=torch.long)\n",
        "print(data.shape, data.dtype)\n",
        "print(data[:100])\n"
      ]
    },
    {
      "cell_type": "code",
      "execution_count": null,
      "metadata": {
        "id": "5n8BRYX8XeQn"
      },
      "outputs": [],
      "source": [
        "n = int(0.9 * len(data))\n",
        "train_data = data[:n]\n",
        "val_data = data[n:]"
      ]
    },
    {
      "cell_type": "code",
      "execution_count": null,
      "metadata": {
        "id": "2RavZCM_Xkma",
        "outputId": "459e5258-4ec9-4e22-f0bd-f274012a18b9",
        "colab": {
          "base_uri": "https://localhost:8080/",
          "height": 36
        }
      },
      "outputs": [
        {
          "output_type": "execute_result",
          "data": {
            "text/plain": [
              "'First Citizen:\\nBefore we proceed any further, hear me speak.\\n\\nAll:\\nSpeak, speak.\\n\\nFirst Citizen:\\nYou'"
            ],
            "application/vnd.google.colaboratory.intrinsic+json": {
              "type": "string"
            }
          },
          "metadata": {},
          "execution_count": 74
        }
      ],
      "source": [
        "decode(train_data[:100].tolist())"
      ]
    },
    {
      "cell_type": "code",
      "execution_count": null,
      "metadata": {
        "id": "GfYdU07WXmXi",
        "outputId": "f15b15c4-b682-4dcc-89e7-c0d6da862b20",
        "colab": {
          "base_uri": "https://localhost:8080/"
        }
      },
      "outputs": [
        {
          "output_type": "stream",
          "name": "stdout",
          "text": [
            "tensor([18, 47, 56, 57, 58,  1, 15, 47, 58]) = First Cit\n"
          ]
        }
      ],
      "source": [
        "context_window = 8 #for now\n",
        "sample_data = train_data[:context_window+1]\n",
        "print(sample_data, decode(sample_data.tolist()), sep=\" = \")"
      ]
    },
    {
      "cell_type": "code",
      "execution_count": null,
      "metadata": {
        "id": "zs1XdpeBXpqJ",
        "outputId": "5e8d65cb-ccc3-43f4-a05e-a6122a1ab39d",
        "colab": {
          "base_uri": "https://localhost:8080/"
        }
      },
      "outputs": [
        {
          "output_type": "stream",
          "name": "stdout",
          "text": [
            "When input is [18] the target: 47\n",
            "When input is [18, 47] the target: 56\n",
            "When input is [18, 47, 56] the target: 57\n",
            "When input is [18, 47, 56, 57] the target: 58\n",
            "When input is [18, 47, 56, 57, 58] the target: 1\n",
            "When input is [18, 47, 56, 57, 58, 1] the target: 15\n",
            "When input is [18, 47, 56, 57, 58, 1, 15] the target: 47\n",
            "When input is [18, 47, 56, 57, 58, 1, 15, 47] the target: 58\n"
          ]
        }
      ],
      "source": [
        "x = train_data[:context_window] # except the `+1`th character\n",
        "y = train_data[1:context_window+1] # except the very first `0`th character\n",
        "for t in range(context_window):\n",
        "    context = x[:t+1].tolist()\n",
        "    target = y[t]\n",
        "    print(f\"When input is {context} the target: {target}\")"
      ]
    },
    {
      "cell_type": "code",
      "execution_count": null,
      "metadata": {
        "id": "J7jZbZfpXscu",
        "outputId": "3408fc25-f68d-47ed-b29d-651d2172971f",
        "colab": {
          "base_uri": "https://localhost:8080/"
        }
      },
      "outputs": [
        {
          "output_type": "stream",
          "name": "stdout",
          "text": [
            "F → i\n",
            "Fi → r\n",
            "Fir → s\n",
            "Firs → t\n",
            "First →  \n",
            "First  → C\n",
            "First C → i\n",
            "First Ci → t\n"
          ]
        }
      ],
      "source": [
        "for t in range(context_window):\n",
        "    context = x[:t+1].tolist()\n",
        "    target = y[t].tolist()\n",
        "    print(f\"{decode(context)} → {decode([target])}\")"
      ]
    },
    {
      "cell_type": "markdown",
      "metadata": {
        "id": "-nojfva3XuyA"
      },
      "source": [
        "##Making a basic Bigram Linear Model with softmax, then adding the decoder part later on"
      ]
    },
    {
      "cell_type": "code",
      "execution_count": null,
      "metadata": {
        "id": "Rn6AkxgnX-6y"
      },
      "outputs": [],
      "source": [
        "torch.manual_seed(42)\n",
        "\n",
        "batch_size = 32       # n_samples or b\n",
        "block_size = 8        # context_window or t\n",
        "max_iters = 20_000    # total steps\n",
        "eval_interval = 1_000 # loss prnting\n",
        "learning_rate = 1e-3\n",
        "device = 'cuda' if torch.cuda.is_available() else 'cpu'\n",
        "eval_iters = 200\n",
        "n_embd = 32\n"
      ]
    },
    {
      "cell_type": "code",
      "execution_count": null,
      "metadata": {
        "id": "Al24U8bAYQKp",
        "outputId": "47af341a-da1f-4f94-b90a-2043ff110b93",
        "colab": {
          "base_uri": "https://localhost:8080/",
          "height": 36
        }
      },
      "outputs": [
        {
          "output_type": "execute_result",
          "data": {
            "text/plain": [
              "'cpu'"
            ],
            "application/vnd.google.colaboratory.intrinsic+json": {
              "type": "string"
            }
          },
          "metadata": {},
          "execution_count": 79
        }
      ],
      "source": [
        "device"
      ]
    },
    {
      "cell_type": "code",
      "execution_count": null,
      "metadata": {
        "id": "2gaZDliXYg-q"
      },
      "outputs": [],
      "source": [
        "class BigramLM(nn.Module):\n",
        "\n",
        "\n",
        "    def __init__(self):\n",
        "        super().__init__()\n",
        "        self.embedding_table = nn.Embedding(vocab_size, n_embd)\n",
        "        self.lm_head = nn.Linear(n_embd, vocab_size)\n",
        "\n",
        "    def forward(self, idx, targets=None):\n",
        "\n",
        "        tok_emb = self.embedding_table(idx) # B, T, n_emb\n",
        "        logits = self.lm_head(tok_emb) # B, T, vocab_size\n",
        "\n",
        "        if targets is None:\n",
        "            loss=None\n",
        "        else:\n",
        "            B, T, C = logits.shape\n",
        "            logits = logits.view(B*T, C)\n",
        "            targets = targets.view(B*T)\n",
        "            loss = F.cross_entropy(logits, targets)\n",
        "\n",
        "        return logits, loss\n",
        "\n",
        "\n",
        "    def generate(self, idx, max_new_tokens):\n",
        "\n",
        "        for _ in range(max_new_tokens):\n",
        "            logits, loss = self(idx)\n",
        "\n",
        "            # last token (8th in the context window)\n",
        "            # and use its distribution to get the next token\n",
        "            logits = logits[:, -1, :]\n",
        "\n",
        "            #logits into probability\n",
        "            probs = F.softmax(logits, dim=-1) ## along the last dimension , here 1\n",
        "\n",
        "            # Take the next idx\n",
        "            next_idx = torch.multinomial(probs, num_samples=1)\n",
        "\n",
        "            # Append\n",
        "            idx = torch.cat((idx, next_idx), dim=1)\n",
        "\n",
        "        return idx"
      ]
    },
    {
      "cell_type": "code",
      "execution_count": null,
      "metadata": {
        "id": "BKgInJeSYQqL"
      },
      "outputs": [],
      "source": [
        "model = BigramLM()\n",
        "\n",
        "### 🗽 Transfer to device 🗽 ###\n",
        "model = model.to(device)\n",
        "optimizer = torch.optim.AdamW(model.parameters(), lr=learning_rate)"
      ]
    },
    {
      "cell_type": "code",
      "execution_count": null,
      "metadata": {
        "id": "tscCvwIDYVgo",
        "outputId": "3463022c-f689-4337-b2cb-f3a699e08a73",
        "colab": {
          "base_uri": "https://localhost:8080/"
        }
      },
      "outputs": [
        {
          "output_type": "stream",
          "name": "stdout",
          "text": [
            "BigramLM(\n",
            "  (embedding_table): Embedding(65, 32)\n",
            "  (lm_head): Linear(in_features=32, out_features=65, bias=True)\n",
            ")\n"
          ]
        }
      ],
      "source": [
        "print(model)"
      ]
    },
    {
      "cell_type": "markdown",
      "metadata": {
        "id": "uMqD_g7Bsf5b"
      },
      "source": [
        "##Get Batch"
      ]
    },
    {
      "cell_type": "code",
      "execution_count": null,
      "metadata": {
        "id": "yUGV2jnksgZR"
      },
      "outputs": [],
      "source": [
        "def get_batch(split):\n",
        "    data = train_data if split == 'train' else val_data\n",
        "    ix = torch.randint(len(data) - block_size, (batch_size,))\n",
        "    x = torch.stack([data[i:i+block_size] for i in ix])\n",
        "    y = torch.stack([data[i+1:i+block_size+1] for i in ix])\n",
        "\n",
        "    ### 🗽 Transfer to device 🗽 ###\n",
        "    x, y = x.to(device), y.to(device)\n",
        "    return x, y"
      ]
    },
    {
      "cell_type": "markdown",
      "metadata": {
        "id": "FkRGz5OiZeRJ"
      },
      "source": [
        "## Esmtimating Loss"
      ]
    },
    {
      "cell_type": "code",
      "execution_count": null,
      "metadata": {
        "id": "2GZ0jvHWZWg1"
      },
      "outputs": [],
      "source": [
        "@torch.no_grad()\n",
        "def estimate_loss():\n",
        "    '''\n",
        "    This function takes the random samples from the dataset (based on the batch size)\n",
        "    for `eval_iter` times. Records loss and takes the mean loss. And reports back.\n",
        "\n",
        "    Which means, if we have the `eval_iter = 10` and `batch_size=32` then it will take\n",
        "    32 random samples from training data and then validation data for 10 times and takes\n",
        "    the means of these 10 losses.\n",
        "    '''\n",
        "    out = {}\n",
        "\n",
        "    # sets on evaluation mode\n",
        "    model.eval()\n",
        "\n",
        "    for split in ['train', 'val']:\n",
        "        losses = torch.zeros(eval_iters)\n",
        "        for k in range(eval_iters):\n",
        "            X, Y = get_batch(split)\n",
        "            logits, loss = model(X, Y)\n",
        "            losses[k] = loss.item()\n",
        "        out[split] = losses.mean()\n",
        "\n",
        "    # sets the model to training mode back!\n",
        "    model.train()\n",
        "    return out"
      ]
    },
    {
      "cell_type": "code",
      "execution_count": null,
      "metadata": {
        "id": "5b7vrST2ZB3g",
        "outputId": "0ab5d5bd-510a-4d57-a407-d159df942d1f",
        "colab": {
          "base_uri": "https://localhost:8080/"
        }
      },
      "outputs": [
        {
          "output_type": "stream",
          "name": "stdout",
          "text": [
            "[Step 0]: Train Loss~4.3626, Val Loss~4.3557\n",
            "[Step 1000]: Train Loss~2.5696, Val Loss~2.5975\n",
            "[Step 2000]: Train Loss~2.5166, Val Loss~2.5170\n",
            "[Step 3000]: Train Loss~2.4737, Val Loss~2.5073\n",
            "[Step 4000]: Train Loss~2.4794, Val Loss~2.5044\n",
            "[Step 5000]: Train Loss~2.4757, Val Loss~2.5001\n",
            "[Step 6000]: Train Loss~2.4645, Val Loss~2.4901\n",
            "[Step 7000]: Train Loss~2.4735, Val Loss~2.4858\n",
            "[Step 8000]: Train Loss~2.4675, Val Loss~2.4912\n",
            "[Step 9000]: Train Loss~2.4642, Val Loss~2.4982\n",
            "[Step 10000]: Train Loss~2.4732, Val Loss~2.4883\n",
            "[Step 11000]: Train Loss~2.4629, Val Loss~2.4922\n",
            "[Step 12000]: Train Loss~2.4702, Val Loss~2.4894\n",
            "[Step 13000]: Train Loss~2.4547, Val Loss~2.4945\n",
            "[Step 14000]: Train Loss~2.4695, Val Loss~2.4891\n",
            "[Step 15000]: Train Loss~2.4593, Val Loss~2.4914\n",
            "[Step 16000]: Train Loss~2.4685, Val Loss~2.4826\n",
            "[Step 17000]: Train Loss~2.4723, Val Loss~2.4910\n",
            "[Step 18000]: Train Loss~2.4595, Val Loss~2.4898\n",
            "[Step 19000]: Train Loss~2.4651, Val Loss~2.4864\n"
          ]
        }
      ],
      "source": [
        "for step in range(max_iters):\n",
        "\n",
        "  if step % eval_interval == 0:\n",
        "      losses = estimate_loss()\n",
        "      print(f\"[Step {step}]: Train Loss~{losses['train']:.4f}, Val Loss~{losses['val']:.4f}\")\n",
        "\n",
        "\n",
        "\n",
        "  xb, yb = get_batch('train')\n",
        "\n",
        "\n",
        "  logits, loss = model(xb, yb)\n",
        "  optimizer.zero_grad(set_to_none=True)\n",
        "  loss.backward()\n",
        "  optimizer.step()"
      ]
    },
    {
      "cell_type": "markdown",
      "source": [
        "## Result"
      ],
      "metadata": {
        "id": "CHUHEmgLZUep"
      }
    },
    {
      "cell_type": "code",
      "source": [
        "model.generate(\n",
        "    idx = torch.zeros((1,1), dtype = torch.long,device = device),\n",
        "    max_new_tokens = 500,\n",
        ").shape"
      ],
      "metadata": {
        "colab": {
          "base_uri": "https://localhost:8080/"
        },
        "id": "t_hi_BuihC3r",
        "outputId": "78c0b5c4-d496-4653-c993-5db6f1a0a58e"
      },
      "execution_count": null,
      "outputs": [
        {
          "output_type": "execute_result",
          "data": {
            "text/plain": [
              "torch.Size([1, 501])"
            ]
          },
          "metadata": {},
          "execution_count": 86
        }
      ]
    },
    {
      "cell_type": "code",
      "source": [
        "output = decode(model.generate(\n",
        "    idx = torch.zeros((1,1), dtype = torch.long,device = device),\n",
        "    max_new_tokens = 500)[0].tolist()\n",
        ")\n",
        "print(output)"
      ],
      "metadata": {
        "colab": {
          "base_uri": "https://localhost:8080/"
        },
        "id": "Gtcm6g1egEOs",
        "outputId": "c10618a6-12e9-4cf7-86b5-b85d7f854d86"
      },
      "execution_count": null,
      "outputs": [
        {
          "output_type": "stream",
          "name": "stdout",
          "text": [
            "\n",
            "Thy, theinrdard whe he imeareg's wnd f Buras\n",
            "Alaresowawe t:\n",
            "Tor d!\n",
            "ARG coutes, r,\n",
            "Arby,\n",
            "Longe stereeas meavellde dentset the t mbrs, s hechasllll athantct t darer r bridouasts\n",
            "O wirenge ll weal pawayomyovell. aixf t iass th s n dre fau ITUSh htho wingean grll\n",
            "\n",
            "\n",
            "Th fe an l's.\n",
            "G jubas s, Cover me se thend E:\n",
            "JO:\n",
            "BAy ppard cince t, thigathuarovingnl?\n",
            "O s t averutthieimyeatheerison mibld d mevealer mpeamounothirisomeOf y se het hes MI t my od me candethr. and hed t; s, bloof hay per, ts ns rt lot ks\n"
          ]
        }
      ]
    },
    {
      "cell_type": "markdown",
      "source": [
        "###The model is giving an output but its mostly just gibberish\n",
        "#Introducing attention meachanisms"
      ],
      "metadata": {
        "id": "1H1KoOU0hDQN"
      }
    },
    {
      "cell_type": "code",
      "source": [],
      "metadata": {
        "id": "hEjb_g1XiTDV"
      },
      "execution_count": null,
      "outputs": []
    },
    {
      "cell_type": "markdown",
      "source": [
        "###This is the architecture of a transforer from the famous \"Attention is all you need\"\n",
        "![image.png](data:image/png;base64,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)"
      ],
      "metadata": {
        "id": "J5koMux1iZPv"
      }
    },
    {
      "cell_type": "markdown",
      "source": [
        "### but for making a gpt, I will just make the decoder part of this, because.. gpt doesn't care about input tokens, it looks at the past tokens and creates new tokens\n",
        "so what we are gonna be making\n",
        "\n",
        "![image.png](data:image/png;base64,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)\n",
        "\n",
        "\n",
        "\n",
        "\n",
        "![image.png](data:image/png;base64,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)"
      ],
      "metadata": {
        "id": "h_IrAWhZiwZC"
      }
    },
    {
      "cell_type": "code",
      "source": [
        "\n",
        "batch_size = 32\n",
        "block_size = 8\n",
        "n_embd = 32\n",
        "\n",
        "max_iters = 20_000\n",
        "eval_interval = 1_000\n",
        "eval_iters = 200\n",
        "learning_rate = 1e-3\n",
        "\n",
        "device = 'cuda' if torch.cuda.is_available() else 'cpu'\n",
        "\n",
        "head_size = n_embd"
      ],
      "metadata": {
        "id": "J_44CH5Hjbs2"
      },
      "execution_count": null,
      "outputs": []
    },
    {
      "cell_type": "code",
      "source": [
        "device\n"
      ],
      "metadata": {
        "colab": {
          "base_uri": "https://localhost:8080/",
          "height": 36
        },
        "id": "0WCg9MrYlDQH",
        "outputId": "20765ecd-8ce0-492b-a955-3aad851e7e77"
      },
      "execution_count": null,
      "outputs": [
        {
          "output_type": "execute_result",
          "data": {
            "text/plain": [
              "'cpu'"
            ],
            "application/vnd.google.colaboratory.intrinsic+json": {
              "type": "string"
            }
          },
          "metadata": {},
          "execution_count": 89
        }
      ]
    },
    {
      "cell_type": "code",
      "source": [
        "class Head(nn.Module):\n",
        "  # this class will create query, key and column tensors and also a registor buffer to mask the future tokens so they don't interact with the past tokens\n",
        "\n",
        "  def __init__(self, head_size):\n",
        "    super().__init__()\n",
        "    self.query = nn.Linear(n_embd, head_size, bias = False)\n",
        "    self.key = nn.Linear(n_embd, head_size, bias = False)\n",
        "    self.value = nn.Linear(n_embd, head_size, bias = False)\n",
        "\n",
        "    self.register_buffer('tril', torch.tril(torch.ones(block_size,block_size, device = device)))\n",
        "\n",
        "  def forward(self,x):\n",
        "    # here te x input is the positions\n",
        "    B,T,C = x.shape\n",
        "    q = self.query(x)\n",
        "    k = self.key(x)\n",
        "    v = self.value(x)\n",
        "\n",
        "    wei = q @ k.transpose(-2,-1) * C**-0.05  # the C**-0.5 is used to control the variance\n",
        "    wei = wei.masked_fill(self.tril[:T,:T] == 0, float(\"-inf\"))\n",
        "    wei = F.softmax(wei,dim = -1);\n",
        "    out = wei@ v;\n",
        "\n",
        "    return out\n",
        "\n",
        "\n",
        "\n"
      ],
      "metadata": {
        "id": "nWJ0Xa4uqoR6"
      },
      "execution_count": null,
      "outputs": []
    },
    {
      "cell_type": "code",
      "source": [
        "class BigramLM(nn.Module):\n",
        "\n",
        "\n",
        "  def __init__(self):\n",
        "    super().__init__()\n",
        "    self.embedding_table = nn.Embedding(vocab_size, n_embd)\n",
        "    ## add position embeddings\n",
        "    self.position_embeddings = nn.Embedding(block_size, n_embd)\n",
        "    #seld attention_head\n",
        "    self.sa_head = Head(head_size)\n",
        "    self.lm_head = nn.Linear(n_embd, vocab_size)\n",
        "\n",
        "  def forward(self, idx, targets=None):\n",
        "    B,T = idx.shape\n",
        "\n",
        "    tok_emb = self.embedding_table(idx) # B, T, n_emb\n",
        "    pos_emb = self.position_embeddings(torch.arange(T, device = device))\n",
        "    x = tok_emb + pos_emb\n",
        "    x = self.sa_head(x)\n",
        "    logits = self.lm_head(x) # B, T, vocab_size\n",
        "\n",
        "    if targets is None:\n",
        "        loss=None\n",
        "    else:\n",
        "        B, T, C = logits.shape\n",
        "        logits = logits.view(B*T, C)\n",
        "        targets = targets.view(B*T)\n",
        "        loss = F.cross_entropy(logits, targets)\n",
        "\n",
        "    return logits, loss\n",
        "\n",
        "\n",
        "  def generate(self, idx, max_new_tokens):\n",
        "\n",
        "\n",
        "\n",
        "    for _ in range(max_new_tokens):\n",
        "      idx_cond = idx[:, -block_size:] # I need to only have size of `T`\n",
        "      logits, loss = self(idx_cond)\n",
        "      logits = logits[:, -1, :]\n",
        "\n",
        "      probs = F.softmax(logits, dim=-1) ## along the last dimension  here 1\n",
        "\n",
        "      next_idx = torch.multinomial(probs, num_samples=1)\n",
        "\n",
        "      idx = torch.cat((idx, next_idx), dim=1)\n",
        "\n",
        "    return idx"
      ],
      "metadata": {
        "id": "2d1mfkkplELf"
      },
      "execution_count": null,
      "outputs": []
    },
    {
      "cell_type": "code",
      "source": [
        "xb, xb.shape"
      ],
      "metadata": {
        "colab": {
          "base_uri": "https://localhost:8080/"
        },
        "id": "RD_rYfvGm8-I",
        "outputId": "bd375b03-5f41-4660-80f1-749c392d3156"
      },
      "execution_count": null,
      "outputs": [
        {
          "output_type": "execute_result",
          "data": {
            "text/plain": [
              "(tensor([[50,  1, 40, 43,  1, 46, 43, 56],\n",
              "         [53, 42, 63,  1, 54, 39, 57, 57],\n",
              "         [56, 43, 54, 53, 56, 58, 43, 42],\n",
              "         [39, 60, 43,  1, 54, 39, 56, 42],\n",
              "         [39, 57, 43,  1, 58, 53, 52, 45],\n",
              "         [43, 52,  1, 58, 46, 43,  1, 42],\n",
              "         [43, 57,  1, 51, 39, 63,  1, 57],\n",
              "         [53,  1, 57, 46, 47, 52, 43, 57],\n",
              "         [52,  1, 58, 46, 43,  1, 50, 47],\n",
              "         [50,  1, 57, 58, 56, 47, 49, 47],\n",
              "         [56, 50, 63,  1, 57, 58, 47, 56],\n",
              "         [53, 59, 56, 57, 43, 50, 44,  1],\n",
              "         [57, 39, 63,  1, 63, 53, 59,  6],\n",
              "         [52, 45, 42, 53, 51,  1, 58, 53],\n",
              "         [26, 33, 31, 10,  0, 32, 46, 39],\n",
              "         [58, 46, 53, 59, 45, 46, 58,  1],\n",
              "         [53, 57, 58, 10,  0, 28, 39, 56],\n",
              "         [51, 47, 50, 47, 58, 63,  8,  0],\n",
              "         [58, 46, 39, 52,  1, 51, 43, 12],\n",
              "         [53, 53, 49,  5, 42,  1, 57, 53],\n",
              "         [54, 56, 53, 59, 42,  1, 57, 58],\n",
              "         [51, 39, 52, 63,  1, 57, 41, 53],\n",
              "         [47, 58, 47, 53, 52,  6,  0, 32],\n",
              "         [61, 39, 50, 50, 57,  1, 58, 53],\n",
              "         [ 1, 21,  1, 39, 51,  1, 39,  1],\n",
              "         [43, 57,  1, 44, 53, 56,  1, 58],\n",
              "         [ 1, 47, 57,  1, 58, 46, 43, 56],\n",
              "         [53, 51, 43, 58, 46, 47, 52, 45],\n",
              "         [39, 58,  5, 57,  1, 51, 63,  1],\n",
              "         [39, 52, 42,  1, 58, 46, 43,  1],\n",
              "         [ 1, 53, 52,  1, 46, 43, 56,  1],\n",
              "         [56, 39, 50, 50, 63,  1, 40, 43]]),\n",
              " torch.Size([32, 8]))"
            ]
          },
          "metadata": {},
          "execution_count": 92
        }
      ]
    },
    {
      "cell_type": "code",
      "source": [
        "xb[:, -block_size:]"
      ],
      "metadata": {
        "colab": {
          "base_uri": "https://localhost:8080/"
        },
        "id": "Zf9DoDxypyvq",
        "outputId": "4127482e-155a-473e-8644-6f799dc0b25d"
      },
      "execution_count": null,
      "outputs": [
        {
          "output_type": "execute_result",
          "data": {
            "text/plain": [
              "tensor([[50,  1, 40, 43,  1, 46, 43, 56],\n",
              "        [53, 42, 63,  1, 54, 39, 57, 57],\n",
              "        [56, 43, 54, 53, 56, 58, 43, 42],\n",
              "        [39, 60, 43,  1, 54, 39, 56, 42],\n",
              "        [39, 57, 43,  1, 58, 53, 52, 45],\n",
              "        [43, 52,  1, 58, 46, 43,  1, 42],\n",
              "        [43, 57,  1, 51, 39, 63,  1, 57],\n",
              "        [53,  1, 57, 46, 47, 52, 43, 57],\n",
              "        [52,  1, 58, 46, 43,  1, 50, 47],\n",
              "        [50,  1, 57, 58, 56, 47, 49, 47],\n",
              "        [56, 50, 63,  1, 57, 58, 47, 56],\n",
              "        [53, 59, 56, 57, 43, 50, 44,  1],\n",
              "        [57, 39, 63,  1, 63, 53, 59,  6],\n",
              "        [52, 45, 42, 53, 51,  1, 58, 53],\n",
              "        [26, 33, 31, 10,  0, 32, 46, 39],\n",
              "        [58, 46, 53, 59, 45, 46, 58,  1],\n",
              "        [53, 57, 58, 10,  0, 28, 39, 56],\n",
              "        [51, 47, 50, 47, 58, 63,  8,  0],\n",
              "        [58, 46, 39, 52,  1, 51, 43, 12],\n",
              "        [53, 53, 49,  5, 42,  1, 57, 53],\n",
              "        [54, 56, 53, 59, 42,  1, 57, 58],\n",
              "        [51, 39, 52, 63,  1, 57, 41, 53],\n",
              "        [47, 58, 47, 53, 52,  6,  0, 32],\n",
              "        [61, 39, 50, 50, 57,  1, 58, 53],\n",
              "        [ 1, 21,  1, 39, 51,  1, 39,  1],\n",
              "        [43, 57,  1, 44, 53, 56,  1, 58],\n",
              "        [ 1, 47, 57,  1, 58, 46, 43, 56],\n",
              "        [53, 51, 43, 58, 46, 47, 52, 45],\n",
              "        [39, 58,  5, 57,  1, 51, 63,  1],\n",
              "        [39, 52, 42,  1, 58, 46, 43,  1],\n",
              "        [ 1, 53, 52,  1, 46, 43, 56,  1],\n",
              "        [56, 39, 50, 50, 63,  1, 40, 43]])"
            ]
          },
          "metadata": {},
          "execution_count": 93
        }
      ]
    },
    {
      "cell_type": "code",
      "source": [
        "xb[:, -block_size:].shape"
      ],
      "metadata": {
        "colab": {
          "base_uri": "https://localhost:8080/"
        },
        "id": "nHp_TEd6p9NT",
        "outputId": "1f90e7e3-9217-4a06-b158-feb419548655"
      },
      "execution_count": null,
      "outputs": [
        {
          "output_type": "execute_result",
          "data": {
            "text/plain": [
              "torch.Size([32, 8])"
            ]
          },
          "metadata": {},
          "execution_count": 94
        }
      ]
    },
    {
      "cell_type": "markdown",
      "source": [
        "###Now **TRAINING** the model with self attention(it will give a better result)"
      ],
      "metadata": {
        "id": "Sjm-iQxcqBi-"
      }
    },
    {
      "cell_type": "code",
      "source": [
        "model = BigramLM()\n",
        "model = model.to(device)\n",
        "optimizer = torch.optim.AdamW(model.parameters(), lr = learning_rate)"
      ],
      "metadata": {
        "id": "w-t2xS3ezDpZ"
      },
      "execution_count": null,
      "outputs": []
    },
    {
      "cell_type": "code",
      "source": [
        "sum(len(i) for i in model.parameters())"
      ],
      "metadata": {
        "colab": {
          "base_uri": "https://localhost:8080/"
        },
        "id": "xQkXjDBpzkdb",
        "outputId": "a1d85012-ce61-4072-b9c1-51d91525feb2"
      },
      "execution_count": null,
      "outputs": [
        {
          "output_type": "execute_result",
          "data": {
            "text/plain": [
              "363"
            ]
          },
          "metadata": {},
          "execution_count": 96
        }
      ]
    },
    {
      "cell_type": "code",
      "source": [
        "print(model)"
      ],
      "metadata": {
        "colab": {
          "base_uri": "https://localhost:8080/"
        },
        "id": "Yo4jbIXuztj2",
        "outputId": "b37364a1-b949-4551-8bf6-2dded25d3ef0"
      },
      "execution_count": null,
      "outputs": [
        {
          "output_type": "stream",
          "name": "stdout",
          "text": [
            "BigramLM(\n",
            "  (embedding_table): Embedding(65, 32)\n",
            "  (position_embeddings): Embedding(8, 32)\n",
            "  (sa_head): Head(\n",
            "    (query): Linear(in_features=32, out_features=32, bias=False)\n",
            "    (key): Linear(in_features=32, out_features=32, bias=True)\n",
            "    (value): Linear(in_features=32, out_features=32, bias=True)\n",
            "  )\n",
            "  (lm_head): Linear(in_features=32, out_features=65, bias=True)\n",
            ")\n"
          ]
        }
      ]
    },
    {
      "cell_type": "code",
      "source": [
        "for step in range(1,max_iters +1):\n",
        "  if step%eval_interval == 0:\n",
        "    losses = estimate_loss()\n",
        "    print(f\"Step {step} : Train loss : {losses['train']:.4f} and Val Loss: {losses['val'] :.4f}\")\n",
        "\n",
        "  xb,yb = get_batch('train')\n",
        "  logits, loss = model(xb,yb)\n",
        "  optimizer.zero_grad(set_to_none = True)\n",
        "  loss.backward()\n",
        "  optimizer.step()"
      ],
      "metadata": {
        "colab": {
          "base_uri": "https://localhost:8080/"
        },
        "id": "k5OsZqDqzvpf",
        "outputId": "497e7f89-0aa2-49ad-fba6-dbf32b95feb4"
      },
      "execution_count": null,
      "outputs": [
        {
          "output_type": "stream",
          "name": "stdout",
          "text": [
            "Step 1000 : Train loss : 2.5525 and Val Loss: 2.5476\n",
            "Step 2000 : Train loss : 2.4613 and Val Loss: 2.4637\n",
            "Step 3000 : Train loss : 2.4229 and Val Loss: 2.4327\n",
            "Step 4000 : Train loss : 2.4037 and Val Loss: 2.4227\n",
            "Step 5000 : Train loss : 2.3976 and Val Loss: 2.4184\n",
            "Step 6000 : Train loss : 2.3896 and Val Loss: 2.3951\n",
            "Step 7000 : Train loss : 2.3739 and Val Loss: 2.4035\n",
            "Step 8000 : Train loss : 2.3665 and Val Loss: 2.3940\n",
            "Step 9000 : Train loss : 2.3725 and Val Loss: 2.3958\n",
            "Step 10000 : Train loss : 2.3620 and Val Loss: 2.3789\n",
            "Step 11000 : Train loss : 2.3606 and Val Loss: 2.3741\n",
            "Step 12000 : Train loss : 2.3502 and Val Loss: 2.3795\n",
            "Step 13000 : Train loss : 2.3492 and Val Loss: 2.3790\n",
            "Step 14000 : Train loss : 2.3557 and Val Loss: 2.3782\n",
            "Step 15000 : Train loss : 2.3494 and Val Loss: 2.3811\n",
            "Step 16000 : Train loss : 2.3467 and Val Loss: 2.3762\n",
            "Step 17000 : Train loss : 2.3364 and Val Loss: 2.3829\n",
            "Step 18000 : Train loss : 2.3360 and Val Loss: 2.3671\n",
            "Step 19000 : Train loss : 2.3229 and Val Loss: 2.3712\n"
          ]
        }
      ]
    },
    {
      "cell_type": "markdown",
      "source": [
        "### Our loss has decreased, so lets now see the changes in the predicted text"
      ],
      "metadata": {
        "id": "H0wRu8tB1n_J"
      }
    },
    {
      "cell_type": "code",
      "source": [
        "output = decode(\n",
        "    model.generate(\n",
        "        idx = torch.zeros((1,1),\n",
        "        dtype = torch.long,\n",
        "        device = device),\n",
        "        max_new_tokens= 500\n",
        "    )[0].tolist()\n",
        ")\n",
        "print(output)"
      ],
      "metadata": {
        "colab": {
          "base_uri": "https://localhost:8080/"
        },
        "id": "zGuxU5lY1HSd",
        "outputId": "7f11d75c-a026-44d7-9c7f-8e1b526a7ebc"
      },
      "execution_count": null,
      "outputs": [
        {
          "output_type": "stream",
          "name": "stdout",
          "text": [
            "\n",
            "An mof nd he ad winger: edd ovesto qeuey the st masucy hor, I beve whif bech I blos art emen tount tilonuk inotha t sin ot,\n",
            "Antren bret Ya daishan came mesper,-\n",
            "prns,\n",
            "Torfsat ouse fitiny mu mercy irs igry Cothe waly.\n",
            "\n",
            "Fooreve ter,\n",
            "Musur bs Joces eme.\n",
            "\n",
            "And tharnonout\n",
            "I yet the tham ayre then kn cth\n",
            "Ro I meet lled! sha r's phourmach te'l hady cowre:, we--what st he.\n",
            "\n",
            "ARWMAULBESMERODORO:\n",
            "Fioncer, in eat othel heeve Lekn sa my ist as wacke ndigroof foes wennnot ne. gtr hal ind at!\n",
            "\n",
            "Bughhee halimm Be\n"
          ]
        }
      ]
    },
    {
      "cell_type": "markdown",
      "source": [
        "Before:\n",
        "\n",
        "Thy, theinrdard whe he imeareg's wnd f Buras\n",
        "Alaresowawe t:\n",
        "Tor d!\n",
        "ARG coutes, r,\n",
        "Arby,\n",
        "Longe stereeas meavellde dentset the t mbrs, s hechasllll athantct t darer r bridouasts\n",
        "O wirenge ll weal pawayomyovell. aixf t iass th s n dre fau ITUSh htho wingean grll\n",
        "\n",
        "\n",
        "Th fe an l's.\n",
        "G jubas s, Cover me se thend E:\n",
        "JO:\n",
        "BAy ppard cince t, thigathuarovingnl?\n",
        "O s t averutthieimyeatheerison mibld d mevealer mpeamounothirisomeOf y se het hes MI t my od me candethr. and hed t; s, bloof hay per, ts ns rt lot ks\n",
        "\n",
        "### It is better than before, now lets add on :"
      ],
      "metadata": {
        "id": "IaHTno0i31OR"
      }
    },
    {
      "cell_type": "markdown",
      "source": [
        "## Multihead attention"
      ],
      "metadata": {
        "id": "isVVzPFc38Q5"
      }
    },
    {
      "cell_type": "code",
      "source": [
        "class MultiHeadAttention(nn.Module):\n",
        "  def __init__(self,num_heads, head_size):\n",
        "    super().__init__()\n",
        "    self.heads = nn.ModuleList([Head(head_size) for _ in range(num_heads)])\n",
        "\n",
        "  def forward(self,x):\n",
        "    return torch.cat([h(x) for h in self.heads], dim = -1)\n",
        "\n"
      ],
      "metadata": {
        "id": "-iN8jr2K4NET"
      },
      "execution_count": null,
      "outputs": []
    },
    {
      "cell_type": "code",
      "source": [
        "class BigramLM(nn.Module):\n",
        "\n",
        "\n",
        "  def __init__(self):\n",
        "    super().__init__()\n",
        "    self.embedding_table = nn.Embedding(vocab_size, n_embd)\n",
        "    self.position_embeddings = nn.Embedding(block_size, n_embd)\n",
        "    self.sa_heads = MultiHeadAttention(4, n_embd//4) # to make shape workout with the next layer\n",
        "    self.lm_head = nn.Linear(n_embd, vocab_size)\n",
        "\n",
        "  def forward(self, idx, targets=None):\n",
        "    B,T = idx.shape\n",
        "\n",
        "    tok_emb = self.embedding_table(idx) # B, T, n_emb\n",
        "    pos_emb = self.position_embeddings(torch.arange(T, device = device))\n",
        "    x = tok_emb + pos_emb\n",
        "    x = self.sa_heads(x)\n",
        "    logits = self.lm_head(x) # B, T, vocab_size\n",
        "\n",
        "    if targets is None:\n",
        "        loss=None\n",
        "    else:\n",
        "        B, T, C = logits.shape\n",
        "        logits = logits.view(B*T, C)\n",
        "        targets = targets.view(B*T)\n",
        "        loss = F.cross_entropy(logits, targets)\n",
        "\n",
        "    return logits, loss\n",
        "\n",
        "\n",
        "  def generate(self, idx, max_new_tokens):\n",
        "\n",
        "\n",
        "\n",
        "    for _ in range(max_new_tokens):\n",
        "      idx_cond = idx[:, -block_size:] # i need to only have size of `T`\n",
        "      logits, loss = self(idx_cond)\n",
        "      logits = logits[:, -1, :]\n",
        "\n",
        "      probs = F.softmax(logits, dim=-1) ## along the last dimension  here 1\n",
        "\n",
        "      next_idx = torch.multinomial(probs, num_samples=1)\n",
        "\n",
        "      idx = torch.cat((idx, next_idx), dim=1)\n",
        "\n",
        "    return idx"
      ],
      "metadata": {
        "id": "8O5tOour7xpA"
      },
      "execution_count": null,
      "outputs": []
    },
    {
      "cell_type": "markdown",
      "source": [
        "##Training again"
      ],
      "metadata": {
        "id": "NOgnYic18oaf"
      }
    },
    {
      "cell_type": "code",
      "source": [
        "model = BigramLM()\n",
        "model = model.to(device)\n",
        "optimizer = torch.optim.AdamW(model.parameters(), lr = learning_rate)\n"
      ],
      "metadata": {
        "id": "w9EkV2Ci8rCk"
      },
      "execution_count": null,
      "outputs": []
    },
    {
      "cell_type": "code",
      "source": [
        "sum(len(i) for i in model.parameters())"
      ],
      "metadata": {
        "colab": {
          "base_uri": "https://localhost:8080/"
        },
        "id": "NOxx9Hsx81-U",
        "outputId": "de5f668c-c70f-4399-d716-88e6ad8f36ae"
      },
      "execution_count": null,
      "outputs": [
        {
          "output_type": "execute_result",
          "data": {
            "text/plain": [
              "363"
            ]
          },
          "metadata": {},
          "execution_count": 104
        }
      ]
    },
    {
      "cell_type": "code",
      "source": [
        "print(model)"
      ],
      "metadata": {
        "colab": {
          "base_uri": "https://localhost:8080/"
        },
        "id": "0UukOaZ-9A80",
        "outputId": "d31d9944-2118-4bb4-dc5e-ecd9c9a96b25"
      },
      "execution_count": null,
      "outputs": [
        {
          "output_type": "stream",
          "name": "stdout",
          "text": [
            "BigramLM(\n",
            "  (embedding_table): Embedding(65, 32)\n",
            "  (position_embeddings): Embedding(8, 32)\n",
            "  (sa_heads): MultiHeadAttention(\n",
            "    (heads): ModuleList(\n",
            "      (0-3): 4 x Head(\n",
            "        (query): Linear(in_features=32, out_features=8, bias=False)\n",
            "        (key): Linear(in_features=32, out_features=8, bias=True)\n",
            "        (value): Linear(in_features=32, out_features=8, bias=True)\n",
            "      )\n",
            "    )\n",
            "  )\n",
            "  (lm_head): Linear(in_features=32, out_features=65, bias=True)\n",
            ")\n"
          ]
        }
      ]
    },
    {
      "cell_type": "code",
      "source": [
        "for step in range(1,max_iters +1):\n",
        "  if step%eval_interval == 0:\n",
        "    losses = estimate_loss()\n",
        "    print(f\"Step {step} : Train loss : {losses['train']:.4f} and Val Loss: {losses['val'] :.4f}\")\n",
        "\n",
        "  xb,yb = get_batch('train')\n",
        "  logits, loss = model(xb,yb)\n",
        "  optimizer.zero_grad(set_to_none = True)\n",
        "  loss.backward()\n",
        "  optimizer.step()"
      ],
      "metadata": {
        "colab": {
          "base_uri": "https://localhost:8080/"
        },
        "id": "HJemqEi69C_W",
        "outputId": "23ae7526-1398-4c88-c29c-c49d081c3965"
      },
      "execution_count": null,
      "outputs": [
        {
          "output_type": "stream",
          "name": "stdout",
          "text": [
            "Step 1000 : Train loss : 2.4245 and Val Loss: 2.4271\n",
            "Step 2000 : Train loss : 2.3430 and Val Loss: 2.3554\n",
            "Step 3000 : Train loss : 2.2858 and Val Loss: 2.3100\n",
            "Step 4000 : Train loss : 2.2686 and Val Loss: 2.2862\n",
            "Step 5000 : Train loss : 2.2345 and Val Loss: 2.2759\n",
            "Step 6000 : Train loss : 2.2264 and Val Loss: 2.2621\n",
            "Step 7000 : Train loss : 2.2158 and Val Loss: 2.2304\n",
            "Step 8000 : Train loss : 2.2105 and Val Loss: 2.2422\n",
            "Step 9000 : Train loss : 2.1844 and Val Loss: 2.2247\n",
            "Step 10000 : Train loss : 2.1769 and Val Loss: 2.2339\n",
            "Step 11000 : Train loss : 2.1737 and Val Loss: 2.2113\n",
            "Step 12000 : Train loss : 2.1691 and Val Loss: 2.1957\n",
            "Step 13000 : Train loss : 2.1550 and Val Loss: 2.1963\n",
            "Step 14000 : Train loss : 2.1404 and Val Loss: 2.2037\n",
            "Step 15000 : Train loss : 2.1434 and Val Loss: 2.2055\n",
            "Step 16000 : Train loss : 2.1461 and Val Loss: 2.1925\n",
            "Step 17000 : Train loss : 2.1346 and Val Loss: 2.2020\n",
            "Step 18000 : Train loss : 2.1355 and Val Loss: 2.1964\n",
            "Step 19000 : Train loss : 2.1209 and Val Loss: 2.1841\n",
            "Step 20000 : Train loss : 2.1308 and Val Loss: 2.1779\n"
          ]
        }
      ]
    },
    {
      "cell_type": "markdown",
      "source": [
        "### We see the loss is lesser than previous models"
      ],
      "metadata": {
        "id": "9q343ht39hI9"
      }
    },
    {
      "cell_type": "code",
      "source": [
        "output = decode(\n",
        "    model.generate(\n",
        "        idx = torch.zeros((1,1),\n",
        "        dtype = torch.long,\n",
        "        device = device),\n",
        "        max_new_tokens= 500\n",
        "    )[0].tolist()\n",
        ")\n",
        "print(output)"
      ],
      "metadata": {
        "colab": {
          "base_uri": "https://localhost:8080/"
        },
        "id": "ZLnhtXqV9Kb-",
        "outputId": "2cff9cda-7779-4557-8ad0-ee4b54239416"
      },
      "execution_count": null,
      "outputs": [
        {
          "output_type": "stream",
          "name": "stdout",
          "text": [
            "\n",
            "Whomake eagch arise ther you like ith some last.\n",
            "KING chis wonn, dy we I no's the:\n",
            "I by thather; als of the I amy hise;\n",
            "Ang: thoous ken port yingch sarges lad. Fexe,\n",
            "Whered you fwar dear fy mun dnower;\n",
            "To's cray wich queth winsstat'd gracomack sidenr's uveer win ford.\n",
            "Youctaruch? VI:\n",
            "It rainge.\n",
            "\n",
            "GLO:\n",
            "Whe surn thallowhea\n",
            "HARfI:\n",
            "I'll rove the hal;\n",
            "Come,\n",
            "This tome's I say whave mustard; istardlyed out by butisss, and slinsiff sue?\n",
            "\n",
            "APSRSANIOS: come,\n",
            "Wess\n",
            "Tur near sant ree grt thumboth; thath O re h\n"
          ]
        }
      ]
    },
    {
      "cell_type": "markdown",
      "source": [
        "## Now let's add the feed forward layer\n",
        "\n",
        "motivation of this layer:\n",
        "we are predicting our output too fast, adding this will give our model the ability to catch on more complex patterns and also add some non linearity(by relu) in our model"
      ],
      "metadata": {
        "id": "jaEDXBUN9VdQ"
      }
    },
    {
      "cell_type": "code",
      "source": [
        "class FeedForward(nn.Module):\n",
        "  def __init__(self, n_embd):\n",
        "    super().__init__()\n",
        "    self.net = nn.Sequential(\n",
        "        nn.Linear(n_embd, n_embd),\n",
        "        nn.ReLU()\n",
        "    )\n",
        "\n",
        "  def forward(self, x):\n",
        "    return self.net(x)"
      ],
      "metadata": {
        "id": "iUSqF-Zd9v83"
      },
      "execution_count": null,
      "outputs": []
    },
    {
      "cell_type": "code",
      "source": [
        "class BigramLM(nn.Module):\n",
        "\n",
        "\n",
        "  def __init__(self):\n",
        "    super().__init__()\n",
        "    self.embedding_table = nn.Embedding(vocab_size, n_embd)\n",
        "    self.position_embeddings = nn.Embedding(block_size, n_embd)\n",
        "    self.sa_heads = MultiHeadAttention(4, n_embd//4)\n",
        "    self.ffwd = FeedForward(n_embd)\n",
        "    self.lm_head = nn.Linear(n_embd, vocab_size)\n",
        "\n",
        "  def forward(self, idx, targets=None):\n",
        "    B,T = idx.shape\n",
        "\n",
        "    tok_emb = self.embedding_table(idx) # B, T, n_emb\n",
        "    pos_emb = self.position_embeddings(torch.arange(T, device = device))\n",
        "    x = tok_emb + pos_emb\n",
        "    x = self.sa_heads(x)\n",
        "    logits = self.lm_head(x) # B, T, vocab_size\n",
        "\n",
        "    if targets is None:\n",
        "        loss=None\n",
        "    else:\n",
        "        B, T, C = logits.shape\n",
        "        logits = logits.view(B*T, C)\n",
        "        targets = targets.view(B*T)\n",
        "        loss = F.cross_entropy(logits, targets)\n",
        "\n",
        "    return logits, loss\n",
        "\n",
        "\n",
        "  def generate(self, idx, max_new_tokens):\n",
        "\n",
        "\n",
        "\n",
        "    for _ in range(max_new_tokens):\n",
        "      idx_cond = idx[:, -block_size:]\n",
        "      logits, loss = self(idx_cond)\n",
        "      logits = logits[:, -1, :]\n",
        "\n",
        "      probs = F.softmax(logits, dim=-1)\n",
        "\n",
        "      next_idx = torch.multinomial(probs, num_samples=1)\n",
        "\n",
        "      idx = torch.cat((idx, next_idx), dim=1)\n",
        "\n",
        "    return idx"
      ],
      "metadata": {
        "id": "b4tK5GFlAY0H"
      },
      "execution_count": null,
      "outputs": []
    },
    {
      "cell_type": "code",
      "source": [
        "model = BigramLM()\n",
        "model = model.to(device)\n",
        "optimizer = torch.optim.AdamW(model.parameters(), lr = learning_rate)\n"
      ],
      "metadata": {
        "id": "5tnCOitEAvnz"
      },
      "execution_count": null,
      "outputs": []
    },
    {
      "cell_type": "code",
      "source": [
        "sum(len(i) for i in model.parameters())"
      ],
      "metadata": {
        "colab": {
          "base_uri": "https://localhost:8080/"
        },
        "id": "E_h4Sbc1A0bO",
        "outputId": "4969a334-8da1-49c8-c005-92b8d8533f68"
      },
      "execution_count": null,
      "outputs": [
        {
          "output_type": "execute_result",
          "data": {
            "text/plain": [
              "427"
            ]
          },
          "metadata": {},
          "execution_count": 115
        }
      ]
    },
    {
      "cell_type": "code",
      "source": [
        "print(model)"
      ],
      "metadata": {
        "colab": {
          "base_uri": "https://localhost:8080/"
        },
        "id": "GUnG1zAOA6gB",
        "outputId": "3cc7a9be-3c78-4b9e-e921-a98957aa586d"
      },
      "execution_count": null,
      "outputs": [
        {
          "output_type": "stream",
          "name": "stdout",
          "text": [
            "BigramLM(\n",
            "  (embedding_table): Embedding(65, 32)\n",
            "  (position_embeddings): Embedding(8, 32)\n",
            "  (sa_heads): MultiHeadAttention(\n",
            "    (heads): ModuleList(\n",
            "      (0-3): 4 x Head(\n",
            "        (query): Linear(in_features=32, out_features=8, bias=False)\n",
            "        (key): Linear(in_features=32, out_features=8, bias=True)\n",
            "        (value): Linear(in_features=32, out_features=8, bias=True)\n",
            "      )\n",
            "    )\n",
            "  )\n",
            "  (ffwd): FeedForward(\n",
            "    (net): Sequential(\n",
            "      (0): Linear(in_features=32, out_features=32, bias=True)\n",
            "      (1): ReLU()\n",
            "    )\n",
            "  )\n",
            "  (lm_head): Linear(in_features=32, out_features=65, bias=True)\n",
            ")\n"
          ]
        }
      ]
    },
    {
      "cell_type": "code",
      "source": [
        "for step in range(1,max_iters +1):\n",
        "  if step%eval_interval == 0:\n",
        "    losses = estimate_loss()\n",
        "    print(f\"Step {step} : Train loss : {losses['train']:.4f} and Val Loss: {losses['val'] :.4f}\")\n",
        "\n",
        "  xb,yb = get_batch('train')\n",
        "  logits, loss = model(xb,yb)\n",
        "  optimizer.zero_grad(set_to_none = True)\n",
        "  loss.backward()\n",
        "  optimizer.step()"
      ],
      "metadata": {
        "colab": {
          "base_uri": "https://localhost:8080/"
        },
        "id": "IL8MuTuuA7H6",
        "outputId": "5f08d691-b492-4f61-bc92-f4b856caaa9f"
      },
      "execution_count": null,
      "outputs": [
        {
          "output_type": "stream",
          "name": "stdout",
          "text": [
            "Step 1000 : Train loss : 2.4835 and Val Loss: 2.4911\n",
            "Step 2000 : Train loss : 2.3675 and Val Loss: 2.3731\n",
            "Step 3000 : Train loss : 2.2959 and Val Loss: 2.3135\n",
            "Step 4000 : Train loss : 2.2636 and Val Loss: 2.2919\n",
            "Step 5000 : Train loss : 2.2229 and Val Loss: 2.2554\n",
            "Step 6000 : Train loss : 2.2268 and Val Loss: 2.2568\n",
            "Step 7000 : Train loss : 2.1984 and Val Loss: 2.2460\n",
            "Step 8000 : Train loss : 2.1753 and Val Loss: 2.2452\n",
            "Step 9000 : Train loss : 2.1669 and Val Loss: 2.2321\n",
            "Step 10000 : Train loss : 2.1669 and Val Loss: 2.2353\n",
            "Step 11000 : Train loss : 2.1676 and Val Loss: 2.2232\n",
            "Step 12000 : Train loss : 2.1491 and Val Loss: 2.2325\n",
            "Step 13000 : Train loss : 2.1596 and Val Loss: 2.2089\n",
            "Step 14000 : Train loss : 2.1635 and Val Loss: 2.2126\n",
            "Step 15000 : Train loss : 2.1376 and Val Loss: 2.2146\n",
            "Step 16000 : Train loss : 2.1575 and Val Loss: 2.2259\n",
            "Step 17000 : Train loss : 2.1326 and Val Loss: 2.2129\n",
            "Step 18000 : Train loss : 2.1382 and Val Loss: 2.2288\n",
            "Step 19000 : Train loss : 2.1216 and Val Loss: 2.2153\n",
            "Step 20000 : Train loss : 2.1157 and Val Loss: 2.2235\n"
          ]
        }
      ]
    },
    {
      "cell_type": "code",
      "source": [
        "output = decode(\n",
        "    model.generate(\n",
        "        idx = torch.zeros((1,1),\n",
        "        dtype = torch.long,\n",
        "        device = device),\n",
        "        max_new_tokens= 500\n",
        "    )[0].tolist()\n",
        ")\n",
        "print(output)"
      ],
      "metadata": {
        "colab": {
          "base_uri": "https://localhost:8080/"
        },
        "id": "qQkEeUBoA_wN",
        "outputId": "664f3335-23c1-4941-b867-699787bd7e3d"
      },
      "execution_count": null,
      "outputs": [
        {
          "output_type": "stream",
          "name": "stdout",
          "text": [
            "\n",
            "PORY BOLYCUMENIUS:\n",
            "Clar four, dond, ther thang waritfrow your done\n",
            "There my strince and hilf ther the with yad to facks I'llavil brit one runt; be praby To quae you now!-vire, mon sonct, weevitin.\n",
            "3tere den'll swith Ande igodllid is receas an'batl four pepprove\n",
            "Haith.\n",
            "\n",
            "bon.\n",
            "\n",
            "Garn and yeram:\n",
            "Sid'sprame and be eyt eart on, theret chamard in't he resst gect,\n",
            "Avich ae blawill be willveak and vatay, Anknd rodes, hainoustct reton thours the fe lih remy sinces hip'd band luto det,\n",
            "If:\n",
            "Fored the son bal\n"
          ]
        }
      ]
    },
    {
      "cell_type": "code",
      "source": [],
      "metadata": {
        "id": "mEQswlDmBEGz"
      },
      "execution_count": null,
      "outputs": []
    },
    {
      "cell_type": "code",
      "source": [],
      "metadata": {
        "id": "M2Ud-ph1BE0e"
      },
      "execution_count": null,
      "outputs": []
    },
    {
      "cell_type": "markdown",
      "source": [
        "##Now its time for the add & norm layer to finish our model"
      ],
      "metadata": {
        "id": "zM6pAUOkBF3o"
      }
    },
    {
      "cell_type": "markdown",
      "source": [
        "this cell will be dealing with a couple of problems here:\n",
        "\n",
        "one is gradient vanishing and other is to match shapes, so i will also add some projection layers into our classes"
      ],
      "metadata": {
        "id": "1DY-EhsmBGuG"
      }
    },
    {
      "cell_type": "code",
      "source": [
        "class MultiHeadAttention(nn.Module):\n",
        "  def __init__(self,num_heads, head_size):\n",
        "    super().__init__()\n",
        "    self.heads = nn.ModuleList([Head(head_size) for _ in range(num_heads)])\n",
        "    self.proj = nn.Linear(n_embd, n_embd)#projcection layer\n",
        "\n",
        "  def forward(self,x):\n",
        "    out =  torch.cat([h(x) for h in self.heads], dim = -1)\n",
        "    out = self.proj(out)\n",
        "    return out"
      ],
      "metadata": {
        "id": "sdq9kgQ8BHmV"
      },
      "execution_count": null,
      "outputs": []
    },
    {
      "cell_type": "markdown",
      "source": [
        "## add projection layer to feed forward\n",
        "\n",
        "and n_embd * 4 because in the paper attention is all you need, it gives better results, so ..."
      ],
      "metadata": {
        "id": "Oxud7OUZFdrD"
      }
    },
    {
      "cell_type": "code",
      "source": [
        "class FeedForward(nn.Module):\n",
        "  def __init__(self, n_embd):\n",
        "    super().__init__()\n",
        "    self.net = nn.Sequential(\n",
        "        nn.Linear(n_embd, 4*n_embd),\n",
        "        nn.ReLU(),\n",
        "        nn.Linear(4*n_embd, n_embd)# projection layer\n",
        "    )\n",
        "\n",
        "  def forward(self, x):\n",
        "    return self.net(x)"
      ],
      "metadata": {
        "id": "2k7JkoWOFFS7"
      },
      "execution_count": null,
      "outputs": []
    },
    {
      "cell_type": "code",
      "source": [
        "class BigramLM(nn.Module):\n",
        "\n",
        "\n",
        "  def __init__(self):\n",
        "    super().__init__()\n",
        "    self.embedding_table = nn.Embedding(vocab_size, n_embd)\n",
        "    self.position_embeddings = nn.Embedding(block_size, n_embd)\n",
        "    self.sa_heads = MultiHeadAttention(4, n_embd//4)\n",
        "    self.add_norm_1 = nn.LayerNorm(n_embd)\n",
        "    self.ffwd = FeedForward(n_embd)\n",
        "    self.add_norm_2 = nn.LayerNorm(n_embd)\n",
        "    self.lm_head = nn.Linear(n_embd, vocab_size)\n",
        "\n",
        "  def forward(self, idx, targets=None):\n",
        "    B,T = idx.shape\n",
        "\n",
        "    tok_emb = self.embedding_table(idx) # B, T, n_emb\n",
        "    pos_emb = self.position_embeddings(torch.arange(T, device = device))\n",
        "    x = tok_emb + pos_emb\n",
        "    #residual connections and add_norm\n",
        "    x = x +  self.add_norm_1(self.sa_heads(x))\n",
        "    x = x + self.add_norm_2(self.ffwd(x))\n",
        "    logits = self.lm_head(x) # B, T, vocab_size\n",
        "\n",
        "    if targets is None:\n",
        "        loss=None\n",
        "    else:\n",
        "        B, T, C = logits.shape\n",
        "        logits = logits.view(B*T, C)\n",
        "        targets = targets.view(B*T)\n",
        "        loss = F.cross_entropy(logits, targets)\n",
        "\n",
        "    return logits, loss\n",
        "\n",
        "\n",
        "  def generate(self, idx, max_new_tokens):\n",
        "\n",
        "\n",
        "\n",
        "    for _ in range(max_new_tokens):\n",
        "      idx_cond = idx[:, -block_size:]\n",
        "      logits, loss = self(idx_cond)\n",
        "      logits = logits[:, -1, :]\n",
        "\n",
        "      probs = F.softmax(logits, dim=-1)\n",
        "\n",
        "      next_idx = torch.multinomial(probs, num_samples=1)\n",
        "\n",
        "      idx = torch.cat((idx, next_idx), dim=1)\n",
        "\n",
        "    return idx"
      ],
      "metadata": {
        "id": "YbcacrJ6FRLZ"
      },
      "execution_count": null,
      "outputs": []
    },
    {
      "cell_type": "markdown",
      "source": [
        "##Training again"
      ],
      "metadata": {
        "id": "0iQwLbDgGlPs"
      }
    },
    {
      "cell_type": "code",
      "source": [
        "model = BigramLM()\n",
        "model = model.to(device)\n",
        "optimizer = torch.optim.AdamW(model.parameters(), lr = learning_rate)"
      ],
      "metadata": {
        "id": "7_bIB5KLGnxA"
      },
      "execution_count": null,
      "outputs": []
    },
    {
      "cell_type": "code",
      "source": [
        "sum(len(i) for i in model.parameters())"
      ],
      "metadata": {
        "colab": {
          "base_uri": "https://localhost:8080/"
        },
        "id": "cgO8iIdKGsUC",
        "outputId": "43b1b61c-3f51-4328-8495-e307fb616e10"
      },
      "execution_count": null,
      "outputs": [
        {
          "output_type": "execute_result",
          "data": {
            "text/plain": [
              "811"
            ]
          },
          "metadata": {},
          "execution_count": 144
        }
      ]
    },
    {
      "cell_type": "code",
      "source": [
        "print(model)"
      ],
      "metadata": {
        "colab": {
          "base_uri": "https://localhost:8080/"
        },
        "id": "QbUd8P-iGuMK",
        "outputId": "2d13b17a-72b1-4db6-c833-7ca43cd5ea64"
      },
      "execution_count": null,
      "outputs": [
        {
          "output_type": "stream",
          "name": "stdout",
          "text": [
            "BigramLM(\n",
            "  (embedding_table): Embedding(65, 32)\n",
            "  (position_embeddings): Embedding(8, 32)\n",
            "  (sa_heads): MultiHeadAttention(\n",
            "    (heads): ModuleList(\n",
            "      (0-3): 4 x Head(\n",
            "        (query): Linear(in_features=32, out_features=8, bias=False)\n",
            "        (key): Linear(in_features=32, out_features=8, bias=False)\n",
            "        (value): Linear(in_features=32, out_features=8, bias=False)\n",
            "      )\n",
            "    )\n",
            "    (proj): Linear(in_features=32, out_features=32, bias=True)\n",
            "  )\n",
            "  (add_norm_1): LayerNorm((32,), eps=1e-05, elementwise_affine=True)\n",
            "  (ffwd): FeedForward(\n",
            "    (net): Sequential(\n",
            "      (0): Linear(in_features=32, out_features=128, bias=True)\n",
            "      (1): ReLU()\n",
            "      (2): Linear(in_features=128, out_features=32, bias=True)\n",
            "    )\n",
            "  )\n",
            "  (add_norm_2): LayerNorm((32,), eps=1e-05, elementwise_affine=True)\n",
            "  (lm_head): Linear(in_features=32, out_features=65, bias=True)\n",
            ")\n"
          ]
        }
      ]
    },
    {
      "cell_type": "code",
      "source": [
        "for step in range(1,max_iters +1):\n",
        "  if step%eval_interval == 0:\n",
        "    losses = estimate_loss()\n",
        "    print(f\"Step {step} : Train loss : {losses['train']:.4f} and Val Loss: {losses['val'] :.4f}\")\n",
        "\n",
        "  xb,yb = get_batch('train')\n",
        "  logits, loss = model(xb,yb)\n",
        "  optimizer.zero_grad(set_to_none = True)\n",
        "  loss.backward()\n",
        "  optimizer.step()"
      ],
      "metadata": {
        "colab": {
          "base_uri": "https://localhost:8080/"
        },
        "id": "inAMN-TLGvix",
        "outputId": "826936b4-4a58-4044-a1da-9fe34c6d221c"
      },
      "execution_count": null,
      "outputs": [
        {
          "output_type": "stream",
          "name": "stdout",
          "text": [
            "Step 1000 : Train loss : 2.3101 and Val Loss: 2.3284\n",
            "Step 2000 : Train loss : 2.1910 and Val Loss: 2.2297\n",
            "Step 3000 : Train loss : 2.1322 and Val Loss: 2.1849\n",
            "Step 4000 : Train loss : 2.0939 and Val Loss: 2.1464\n",
            "Step 5000 : Train loss : 2.0588 and Val Loss: 2.1199\n",
            "Step 6000 : Train loss : 2.0268 and Val Loss: 2.1172\n",
            "Step 7000 : Train loss : 2.0177 and Val Loss: 2.0935\n",
            "Step 8000 : Train loss : 2.0119 and Val Loss: 2.0967\n",
            "Step 9000 : Train loss : 1.9986 and Val Loss: 2.0888\n",
            "Step 10000 : Train loss : 1.9830 and Val Loss: 2.0977\n",
            "Step 11000 : Train loss : 1.9835 and Val Loss: 2.0724\n",
            "Step 12000 : Train loss : 1.9715 and Val Loss: 2.0753\n",
            "Step 13000 : Train loss : 1.9742 and Val Loss: 2.0848\n",
            "Step 14000 : Train loss : 1.9579 and Val Loss: 2.0723\n",
            "Step 15000 : Train loss : 1.9519 and Val Loss: 2.0563\n",
            "Step 16000 : Train loss : 1.9512 and Val Loss: 2.0617\n",
            "Step 17000 : Train loss : 1.9459 and Val Loss: 2.0678\n",
            "Step 18000 : Train loss : 1.9399 and Val Loss: 2.0448\n",
            "Step 19000 : Train loss : 1.9422 and Val Loss: 2.0784\n",
            "Step 20000 : Train loss : 1.9256 and Val Loss: 2.0538\n"
          ]
        }
      ]
    },
    {
      "cell_type": "code",
      "source": [
        "output = decode(\n",
        "    model.generate(\n",
        "        idx = torch.zeros((1,1),\n",
        "        dtype = torch.long,\n",
        "        device = device),\n",
        "        max_new_tokens= 500\n",
        "    )[0].tolist()\n",
        ")\n",
        "print(output)"
      ],
      "metadata": {
        "colab": {
          "base_uri": "https://localhost:8080/"
        },
        "id": "hiJ-beXGG32G",
        "outputId": "7acbca0d-4695-45ea-b88a-6bb300524c88"
      },
      "execution_count": null,
      "outputs": [
        {
          "output_type": "stream",
          "name": "stdout",
          "text": [
            "\n",
            "As Pozer, hanks for my be speak isproves; Will hows which witurs seed forg:\n",
            "He your stage scrung an in Pease us fall of no pitill tell, darch in ortren my beperiud a corr man's would are cecall much seed me kink! You, was are Rear heir the have so duper slames you ther witch his your garrie, which undent in unity lay matish.\n",
            "\n",
            "CAPULET:\n",
            "3\n",
            "\n",
            "HENRY:\n",
            "Now night proth thewerord, and\n",
            "Henter.\n",
            "\n",
            "SEN: bed.\n",
            "\n",
            "BROF EDWARD EDWARD II:\n",
            "Fik, I dight dust suesser?\n",
            "\n",
            "SICarly sayt;\n",
            "Of when zesings to Angrace the row pa\n"
          ]
        }
      ]
    },
    {
      "cell_type": "code",
      "source": [
        "### 2.05!! lesser loss 😃😃 but let' do more"
      ],
      "metadata": {
        "id": "r6pvz_d3G6ly"
      },
      "execution_count": null,
      "outputs": []
    },
    {
      "cell_type": "markdown",
      "source": [
        "#Now let's use multiple multiple attention heads or multiple blocks of multiple attention heads"
      ],
      "metadata": {
        "id": "21UMw2lDHA3C"
      }
    },
    {
      "cell_type": "code",
      "source": [
        "class Block(nn.Module):\n",
        "  def __init__(self, n_embd, n_head):\n",
        "    super().__init__()\n",
        "    head_size = n_embd//n_head\n",
        "    self.sa_heads = MultiHeadAttention(n_head, head_size) # to make shape workout with the next layer...\n",
        "    self.add_norm_1 = nn.LayerNorm(n_embd)\n",
        "    self.ffwd = FeedForward(n_embd)\n",
        "    self.add_norm_2 = nn.LayerNorm(n_embd)\n",
        "\n",
        "\n",
        "  def forward(self, x):\n",
        "\n",
        "    x = x + self.add_norm_1(self.sa_heads(x))\n",
        "    x = x + self.add_norm_2(self.ffwd(x))\n",
        "    return x"
      ],
      "metadata": {
        "id": "nxKgK_GWHLT6"
      },
      "execution_count": null,
      "outputs": []
    },
    {
      "cell_type": "code",
      "source": [
        "\n",
        "class BigramLM(nn.Module):\n",
        "\n",
        "  def __init__(self):\n",
        "    super().__init__()\n",
        "    self.embedding_table = nn.Embedding(vocab_size, n_embd)\n",
        "    self.position_embeddings = nn.Embedding(block_size, n_embd)\n",
        "    #self attention_head\n",
        "                      # self.sa_heads = MultiHeadAttention(4, n_embd//4)\n",
        "                      # self.add_norm_1 = nn.LayerNorm(n_embd)\n",
        "                      # self.ffwd = FeedForward(n_embd)\n",
        "                      # self.add_norm_2 = nn.LayerNorm(n_embd)\n",
        "    self.blocks = nn.Sequential(\n",
        "        Block(n_embd,n_head = 4),\n",
        "        Block(n_embd,n_head = 4),\n",
        "        Block(n_embd,n_head = 4),\n",
        "        nn.LayerNorm(n_embd)\n",
        "    )\n",
        "    self.lm_head = nn.Linear(n_embd, vocab_size)\n",
        "\n",
        "  def forward(self, idx, targets=None):\n",
        "    B,T = idx.shape\n",
        "\n",
        "    tok_emb = self.embedding_table(idx) # B, T, n_emb\n",
        "    pos_emb = self.position_embeddings(torch.arange(T, device = device))\n",
        "    x = tok_emb + pos_emb\n",
        "          #residual connections and add_norm\n",
        "          # x = x +  self.add_norm_1(self.sa_heads(x))\n",
        "          # x = x + self.add_norm_2(self.ffwd(x))\n",
        "    x = self.blocks(x)\n",
        "    logits = self.lm_head(x) # B, T, vocab_size\n",
        "\n",
        "    if targets is None:\n",
        "        loss=None\n",
        "    else:\n",
        "        B, T, C = logits.shape\n",
        "        logits = logits.view(B*T, C)\n",
        "        targets = targets.view(B*T)\n",
        "        loss = F.cross_entropy(logits, targets)\n",
        "\n",
        "    return logits, loss\n",
        "\n",
        "\n",
        "  def generate(self, idx, max_new_tokens):\n",
        "\n",
        "\n",
        "\n",
        "    for _ in range(max_new_tokens):\n",
        "      idx_cond = idx[:, -block_size:]\n",
        "      logits, loss = self(idx_cond)\n",
        "      logits = logits[:, -1, :]\n",
        "\n",
        "      probs = F.softmax(logits, dim=-1)\n",
        "\n",
        "      next_idx = torch.multinomial(probs, num_samples=1)\n",
        "\n",
        "      idx = torch.cat((idx, next_idx), dim=1)\n",
        "\n",
        "    return idx"
      ],
      "metadata": {
        "id": "rEiwWkwyHKVx"
      },
      "execution_count": null,
      "outputs": []
    },
    {
      "cell_type": "markdown",
      "source": [
        "## Training final,"
      ],
      "metadata": {
        "id": "AzEmIanYKEfA"
      }
    },
    {
      "cell_type": "code",
      "source": [
        "model = BigramLM()\n",
        "model = model.to(device)\n",
        "optimizer = torch.optim.AdamW(model.parameters(), lr = learning_rate)"
      ],
      "metadata": {
        "id": "he3RFziiLwjl"
      },
      "execution_count": null,
      "outputs": []
    },
    {
      "cell_type": "code",
      "source": [
        "sum(len(i) for i in model.parameters())"
      ],
      "metadata": {
        "colab": {
          "base_uri": "https://localhost:8080/"
        },
        "id": "iFeJZN2fLx4l",
        "outputId": "e08e3282-d537-456a-96ae-d8bddd090307"
      },
      "execution_count": null,
      "outputs": [
        {
          "output_type": "execute_result",
          "data": {
            "text/plain": [
              "2091"
            ]
          },
          "metadata": {},
          "execution_count": 179
        }
      ]
    },
    {
      "cell_type": "code",
      "source": [
        "print(model)"
      ],
      "metadata": {
        "colab": {
          "base_uri": "https://localhost:8080/"
        },
        "id": "3j7mJ-XJL1NP",
        "outputId": "075c8a71-a475-471b-a798-614046fe42b2"
      },
      "execution_count": null,
      "outputs": [
        {
          "output_type": "stream",
          "name": "stdout",
          "text": [
            "BigramLM(\n",
            "  (embedding_table): Embedding(65, 32)\n",
            "  (position_embeddings): Embedding(8, 32)\n",
            "  (blocks): Sequential(\n",
            "    (0): Block(\n",
            "      (sa_heads): MultiHeadAttention(\n",
            "        (heads): ModuleList(\n",
            "          (0-3): 4 x Head(\n",
            "            (query): Linear(in_features=32, out_features=8, bias=False)\n",
            "            (key): Linear(in_features=32, out_features=8, bias=False)\n",
            "            (value): Linear(in_features=32, out_features=8, bias=False)\n",
            "          )\n",
            "        )\n",
            "        (proj): Linear(in_features=32, out_features=32, bias=True)\n",
            "      )\n",
            "      (add_norm_1): LayerNorm((32,), eps=1e-05, elementwise_affine=True)\n",
            "      (ffwd): FeedForward(\n",
            "        (net): Sequential(\n",
            "          (0): Linear(in_features=32, out_features=128, bias=True)\n",
            "          (1): ReLU()\n",
            "          (2): Linear(in_features=128, out_features=32, bias=True)\n",
            "        )\n",
            "      )\n",
            "      (add_norm_2): LayerNorm((32,), eps=1e-05, elementwise_affine=True)\n",
            "    )\n",
            "    (1): Block(\n",
            "      (sa_heads): MultiHeadAttention(\n",
            "        (heads): ModuleList(\n",
            "          (0-3): 4 x Head(\n",
            "            (query): Linear(in_features=32, out_features=8, bias=False)\n",
            "            (key): Linear(in_features=32, out_features=8, bias=False)\n",
            "            (value): Linear(in_features=32, out_features=8, bias=False)\n",
            "          )\n",
            "        )\n",
            "        (proj): Linear(in_features=32, out_features=32, bias=True)\n",
            "      )\n",
            "      (add_norm_1): LayerNorm((32,), eps=1e-05, elementwise_affine=True)\n",
            "      (ffwd): FeedForward(\n",
            "        (net): Sequential(\n",
            "          (0): Linear(in_features=32, out_features=128, bias=True)\n",
            "          (1): ReLU()\n",
            "          (2): Linear(in_features=128, out_features=32, bias=True)\n",
            "        )\n",
            "      )\n",
            "      (add_norm_2): LayerNorm((32,), eps=1e-05, elementwise_affine=True)\n",
            "    )\n",
            "    (2): Block(\n",
            "      (sa_heads): MultiHeadAttention(\n",
            "        (heads): ModuleList(\n",
            "          (0-3): 4 x Head(\n",
            "            (query): Linear(in_features=32, out_features=8, bias=False)\n",
            "            (key): Linear(in_features=32, out_features=8, bias=False)\n",
            "            (value): Linear(in_features=32, out_features=8, bias=False)\n",
            "          )\n",
            "        )\n",
            "        (proj): Linear(in_features=32, out_features=32, bias=True)\n",
            "      )\n",
            "      (add_norm_1): LayerNorm((32,), eps=1e-05, elementwise_affine=True)\n",
            "      (ffwd): FeedForward(\n",
            "        (net): Sequential(\n",
            "          (0): Linear(in_features=32, out_features=128, bias=True)\n",
            "          (1): ReLU()\n",
            "          (2): Linear(in_features=128, out_features=32, bias=True)\n",
            "        )\n",
            "      )\n",
            "      (add_norm_2): LayerNorm((32,), eps=1e-05, elementwise_affine=True)\n",
            "    )\n",
            "    (3): LayerNorm((32,), eps=1e-05, elementwise_affine=True)\n",
            "  )\n",
            "  (lm_head): Linear(in_features=32, out_features=65, bias=True)\n",
            ")\n"
          ]
        }
      ]
    },
    {
      "cell_type": "code",
      "source": [
        "for step in range(1,max_iters +1):\n",
        "  if step%eval_interval == 0:\n",
        "    losses = estimate_loss()\n",
        "    print(f\"Step {step} : Train loss : {losses['train']:.4f} and Val Loss: {losses['val'] :.4f}\")\n",
        "\n",
        "  xb,yb = get_batch('train')\n",
        "  logits, loss = model(xb,yb)\n",
        "  optimizer.zero_grad(set_to_none = True)\n",
        "  loss.backward()\n",
        "  optimizer.step()"
      ],
      "metadata": {
        "colab": {
          "base_uri": "https://localhost:8080/"
        },
        "id": "LUg4XH1lL7Rq",
        "outputId": "1d699328-4cb0-4e41-ffd4-469a95c815a0"
      },
      "execution_count": null,
      "outputs": [
        {
          "output_type": "stream",
          "name": "stdout",
          "text": [
            "Step 1000 : Train loss : 2.2586 and Val Loss: 2.2695\n",
            "Step 2000 : Train loss : 2.1116 and Val Loss: 2.1477\n",
            "Step 3000 : Train loss : 2.0427 and Val Loss: 2.1005\n",
            "Step 4000 : Train loss : 1.9883 and Val Loss: 2.0785\n",
            "Step 5000 : Train loss : 1.9657 and Val Loss: 2.0718\n",
            "Step 6000 : Train loss : 1.9426 and Val Loss: 2.0503\n",
            "Step 7000 : Train loss : 1.9305 and Val Loss: 2.0461\n",
            "Step 8000 : Train loss : 1.9034 and Val Loss: 2.0347\n",
            "Step 9000 : Train loss : 1.8929 and Val Loss: 2.0425\n",
            "Step 10000 : Train loss : 1.8754 and Val Loss: 2.0370\n",
            "Step 11000 : Train loss : 1.8710 and Val Loss: 2.0196\n",
            "Step 12000 : Train loss : 1.8676 and Val Loss: 1.9970\n",
            "Step 13000 : Train loss : 1.8571 and Val Loss: 1.9965\n",
            "Step 14000 : Train loss : 1.8534 and Val Loss: 1.9960\n",
            "Step 15000 : Train loss : 1.8549 and Val Loss: 1.9817\n",
            "Step 16000 : Train loss : 1.8445 and Val Loss: 1.9886\n",
            "Step 17000 : Train loss : 1.8414 and Val Loss: 1.9816\n",
            "Step 18000 : Train loss : 1.8365 and Val Loss: 1.9770\n",
            "Step 19000 : Train loss : 1.8291 and Val Loss: 1.9801\n",
            "Step 20000 : Train loss : 1.8260 and Val Loss: 1.9681\n"
          ]
        }
      ]
    },
    {
      "cell_type": "code",
      "source": [
        "output = decode(\n",
        "    model.generate(\n",
        "        idx = torch.zeros((1,1),\n",
        "        dtype = torch.long,\n",
        "        device = device),\n",
        "        max_new_tokens= 500\n",
        "    )[0].tolist()\n",
        ")\n",
        "print(output)"
      ],
      "metadata": {
        "colab": {
          "base_uri": "https://localhost:8080/"
        },
        "id": "DTVa3VDgL8lK",
        "outputId": "c49a834c-7abd-4d38-d911-882525c7068c"
      },
      "execution_count": null,
      "outputs": [
        {
          "output_type": "stream",
          "name": "stdout",
          "text": [
            "\n",
            "The have\n",
            "Mosinedren's seem\n",
            "the his prove a why, tilloved therefess a forshst, brough:\n",
            "Corlo. Thy some, hast bhost there deace?\n",
            "\n",
            "Froy what commened's teblencer'd sof.\n",
            "\n",
            "RIV:\n",
            "Not;\n",
            "Stand, jogbleting morthing of the press be by an thus come.\n",
            "\n",
            "RICHMOM:\n",
            "But it honop!\n",
            "For in.\n",
            "\n",
            "AUTON Yond, trest farry me accoudess,\n",
            "Is sweak a\n",
            "doness of capest-betrach; any not communted tropine abaff'd their man:\n",
            "But clager, sitts, bet me, bush that then leaveop, not haven uaren, and powell;\n",
            "Our him\n",
            "As notrenent: and drow\n"
          ]
        }
      ]
    },
    {
      "cell_type": "markdown",
      "source": [
        "# wow! loss is 1.98  and the text produced is significantly better than from where we started🤩\n",
        "\n",
        "#### now the final model is also in a separate notebook in this same repository with parameters taken from the paper coz I don't have enough computational power for Grid search CV kind of thing, check it out"
      ],
      "metadata": {
        "id": "Py2vJ4VuPFoJ"
      }
    },
    {
      "cell_type": "code",
      "source": [],
      "metadata": {
        "id": "yDdZ19L_QrYX"
      },
      "execution_count": null,
      "outputs": []
    }
  ],
  "metadata": {
    "accelerator": "GPU",
    "colab": {
      "gpuType": "T4",
      "provenance": []
    },
    "kernelspec": {
      "display_name": "Python 3",
      "name": "python3"
    },
    "language_info": {
      "name": "python"
    }
  },
  "nbformat": 4,
  "nbformat_minor": 0
}